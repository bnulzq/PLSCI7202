{
 "cells": [
  {
   "cell_type": "markdown",
   "metadata": {},
   "source": [
    "<center><h1>Multi-class compound structural classification using sklearn</center></h1>\n",
    "\n",
    "## About our dataset for today\n",
    "\n",
    "The objective of this exercise is to predict the structural category of a compound using some properties derived from the monoisotopic mass and the molecular formula of the compound. ~40,000 plant lipids were classified in the following eight categories, out of which ~8000 lipids have been randomly chosen for this exercise.\n",
    "\n",
    "<img src=\"Lipids.jpg\" height=\"700\" width=\"700\">\n",
    "\n",
    "We first used Weka for classification. Although Weka also has a command line interface and is quite easy to use, its functionality, especially for multiclass classification, is limited. SkLearn has a lot more functionality than Weka, is much more powerful in its libraries, options and execution, and is more actively developed.\n",
    "\n",
    "The overall pipeline for analysis of the lipid dataset is as follows:\n",
    "\n",
    "* We will first perform some exploratory analysis of the data to understand the distribution of the various features. This dataset has been filtered properly already, so there's not much to edit post exploratory analysis.\n",
    "\n",
    "* We will divide the dataset into training and test data, and set up machine learning runs with 10X cross-validation. We will build a model with a Random Forest classifier using training data and use it to predict the class of the test dataset examples\n",
    "\n",
    "* Then, we will estimate the accuracy of the classifier using various metrics.\n",
    "\n",
    "* Finally, we will determine which features were important for classification purposes\n",
    "\n",
    "If at any point you wish to determine the effect of changing some parameters on the output, or want to print some internal variables, feel free to edit the code cell and re-run the cell."
   ]
  },
  {
   "cell_type": "markdown",
   "metadata": {},
   "source": [
    "## Exploratory analysis of the data"
   ]
  },
  {
   "cell_type": "code",
   "execution_count": 1,
   "metadata": {},
   "outputs": [
    {
     "data": {
      "text/html": [
       "<div>\n",
       "<style scoped>\n",
       "    .dataframe tbody tr th:only-of-type {\n",
       "        vertical-align: middle;\n",
       "    }\n",
       "\n",
       "    .dataframe tbody tr th {\n",
       "        vertical-align: top;\n",
       "    }\n",
       "\n",
       "    .dataframe thead th {\n",
       "        text-align: right;\n",
       "    }\n",
       "</style>\n",
       "<table border=\"1\" class=\"dataframe\">\n",
       "  <thead>\n",
       "    <tr style=\"text-align: right;\">\n",
       "      <th></th>\n",
       "      <th>#LMID</th>\n",
       "      <th>Name</th>\n",
       "      <th>Category</th>\n",
       "      <th>Subcategory</th>\n",
       "      <th>Formula</th>\n",
       "      <th>Mass</th>\n",
       "      <th>NumofC</th>\n",
       "      <th>NumofH</th>\n",
       "      <th>NumofO</th>\n",
       "      <th>NumofN</th>\n",
       "      <th>...</th>\n",
       "      <th>NumofS</th>\n",
       "      <th>H:C</th>\n",
       "      <th>H:O</th>\n",
       "      <th>C:O</th>\n",
       "      <th>C:N</th>\n",
       "      <th>C:S</th>\n",
       "      <th>C:P</th>\n",
       "      <th>Afterdecmass</th>\n",
       "      <th>AMD</th>\n",
       "      <th>RMD</th>\n",
       "    </tr>\n",
       "  </thead>\n",
       "  <tbody>\n",
       "    <tr>\n",
       "      <th>0</th>\n",
       "      <td>LMFA01090153</td>\n",
       "      <td>(2E,4Z)-3-chlorohexa-2,4-dienedioic_acid</td>\n",
       "      <td>Fatty_Acyls</td>\n",
       "      <td>Fatty_Acids_and_Conjugates</td>\n",
       "      <td>C6H5O4N0S0P0</td>\n",
       "      <td>141.018786</td>\n",
       "      <td>6</td>\n",
       "      <td>5</td>\n",
       "      <td>4</td>\n",
       "      <td>0</td>\n",
       "      <td>...</td>\n",
       "      <td>0</td>\n",
       "      <td>0.833333</td>\n",
       "      <td>1.250000</td>\n",
       "      <td>1.500000</td>\n",
       "      <td>0.0</td>\n",
       "      <td>0.0</td>\n",
       "      <td>0.0</td>\n",
       "      <td>0.9876</td>\n",
       "      <td>0.0124</td>\n",
       "      <td>70</td>\n",
       "    </tr>\n",
       "    <tr>\n",
       "      <th>1</th>\n",
       "      <td>LMFA01020226</td>\n",
       "      <td>19-methyl-5Z,9Z-eicosadienoic_acid</td>\n",
       "      <td>Fatty_Acyls</td>\n",
       "      <td>Fatty_Acids_and_Conjugates</td>\n",
       "      <td>C21H38O2N0S0P0</td>\n",
       "      <td>322.287181</td>\n",
       "      <td>21</td>\n",
       "      <td>38</td>\n",
       "      <td>2</td>\n",
       "      <td>0</td>\n",
       "      <td>...</td>\n",
       "      <td>0</td>\n",
       "      <td>1.809524</td>\n",
       "      <td>19.000000</td>\n",
       "      <td>10.500000</td>\n",
       "      <td>0.0</td>\n",
       "      <td>0.0</td>\n",
       "      <td>0.0</td>\n",
       "      <td>0.2872</td>\n",
       "      <td>0.2872</td>\n",
       "      <td>891</td>\n",
       "    </tr>\n",
       "    <tr>\n",
       "      <th>2</th>\n",
       "      <td>LMFA01050382</td>\n",
       "      <td>2R-methyl-3-hydroxy-propanoic_acid</td>\n",
       "      <td>Fatty_Acyls</td>\n",
       "      <td>Fatty_Acids_and_Conjugates</td>\n",
       "      <td>C4H8O3N0S0P0</td>\n",
       "      <td>104.047345</td>\n",
       "      <td>4</td>\n",
       "      <td>8</td>\n",
       "      <td>3</td>\n",
       "      <td>0</td>\n",
       "      <td>...</td>\n",
       "      <td>0</td>\n",
       "      <td>2.000000</td>\n",
       "      <td>2.666667</td>\n",
       "      <td>1.333333</td>\n",
       "      <td>0.0</td>\n",
       "      <td>0.0</td>\n",
       "      <td>0.0</td>\n",
       "      <td>0.0473</td>\n",
       "      <td>0.0473</td>\n",
       "      <td>455</td>\n",
       "    </tr>\n",
       "    <tr>\n",
       "      <th>3</th>\n",
       "      <td>LMFA01050018</td>\n",
       "      <td>5-hydroxy-heptanoic_acid</td>\n",
       "      <td>Fatty_Acyls</td>\n",
       "      <td>Fatty_Acids_and_Conjugates</td>\n",
       "      <td>C7H14O3N0S0P0</td>\n",
       "      <td>146.094295</td>\n",
       "      <td>7</td>\n",
       "      <td>14</td>\n",
       "      <td>3</td>\n",
       "      <td>0</td>\n",
       "      <td>...</td>\n",
       "      <td>0</td>\n",
       "      <td>2.000000</td>\n",
       "      <td>4.666667</td>\n",
       "      <td>2.333333</td>\n",
       "      <td>0.0</td>\n",
       "      <td>0.0</td>\n",
       "      <td>0.0</td>\n",
       "      <td>0.0943</td>\n",
       "      <td>0.0943</td>\n",
       "      <td>645</td>\n",
       "    </tr>\n",
       "    <tr>\n",
       "      <th>4</th>\n",
       "      <td>LMFA01160015</td>\n",
       "      <td>(2R)-2-[(1R)-1-hydroxy-19-{(1R,2R)-2-[(2R,19S,...</td>\n",
       "      <td>Fatty_Acyls</td>\n",
       "      <td>Fatty_Acids_and_Conjugates</td>\n",
       "      <td>C88H174O4N0S0P0</td>\n",
       "      <td>1295.341213</td>\n",
       "      <td>88</td>\n",
       "      <td>174</td>\n",
       "      <td>4</td>\n",
       "      <td>0</td>\n",
       "      <td>...</td>\n",
       "      <td>0</td>\n",
       "      <td>1.977273</td>\n",
       "      <td>43.500000</td>\n",
       "      <td>22.000000</td>\n",
       "      <td>0.0</td>\n",
       "      <td>0.0</td>\n",
       "      <td>0.0</td>\n",
       "      <td>0.3412</td>\n",
       "      <td>0.3412</td>\n",
       "      <td>263</td>\n",
       "    </tr>\n",
       "  </tbody>\n",
       "</table>\n",
       "<p>5 rows × 21 columns</p>\n",
       "</div>"
      ],
      "text/plain": [
       "          #LMID                                               Name  \\\n",
       "0  LMFA01090153           (2E,4Z)-3-chlorohexa-2,4-dienedioic_acid   \n",
       "1  LMFA01020226                 19-methyl-5Z,9Z-eicosadienoic_acid   \n",
       "2  LMFA01050382                 2R-methyl-3-hydroxy-propanoic_acid   \n",
       "3  LMFA01050018                           5-hydroxy-heptanoic_acid   \n",
       "4  LMFA01160015  (2R)-2-[(1R)-1-hydroxy-19-{(1R,2R)-2-[(2R,19S,...   \n",
       "\n",
       "      Category                 Subcategory          Formula         Mass  \\\n",
       "0  Fatty_Acyls  Fatty_Acids_and_Conjugates     C6H5O4N0S0P0   141.018786   \n",
       "1  Fatty_Acyls  Fatty_Acids_and_Conjugates   C21H38O2N0S0P0   322.287181   \n",
       "2  Fatty_Acyls  Fatty_Acids_and_Conjugates     C4H8O3N0S0P0   104.047345   \n",
       "3  Fatty_Acyls  Fatty_Acids_and_Conjugates    C7H14O3N0S0P0   146.094295   \n",
       "4  Fatty_Acyls  Fatty_Acids_and_Conjugates  C88H174O4N0S0P0  1295.341213   \n",
       "\n",
       "   NumofC  NumofH  NumofO  NumofN  ...  NumofS       H:C        H:O  \\\n",
       "0       6       5       4       0  ...       0  0.833333   1.250000   \n",
       "1      21      38       2       0  ...       0  1.809524  19.000000   \n",
       "2       4       8       3       0  ...       0  2.000000   2.666667   \n",
       "3       7      14       3       0  ...       0  2.000000   4.666667   \n",
       "4      88     174       4       0  ...       0  1.977273  43.500000   \n",
       "\n",
       "         C:O  C:N  C:S  C:P  Afterdecmass     AMD  RMD  \n",
       "0   1.500000  0.0  0.0  0.0        0.9876  0.0124   70  \n",
       "1  10.500000  0.0  0.0  0.0        0.2872  0.2872  891  \n",
       "2   1.333333  0.0  0.0  0.0        0.0473  0.0473  455  \n",
       "3   2.333333  0.0  0.0  0.0        0.0943  0.0943  645  \n",
       "4  22.000000  0.0  0.0  0.0        0.3412  0.3412  263  \n",
       "\n",
       "[5 rows x 21 columns]"
      ]
     },
     "execution_count": 1,
     "metadata": {},
     "output_type": "execute_result"
    }
   ],
   "source": [
    "import pandas as pd\n",
    "import numpy as np\n",
    "import matplotlib.pyplot as plt\n",
    "#%matplotlib notebook\n",
    "%matplotlib inline\n",
    "\n",
    "import seaborn as sns\n",
    "\n",
    "#Read in the file\n",
    "s = pd.read_csv('small_input_file.tab',sep=\"\\t\")\n",
    "s.head()\n",
    "\n",
    "#How many columns does it have? "
   ]
  },
  {
   "cell_type": "code",
   "execution_count": 4,
   "metadata": {},
   "outputs": [
    {
     "name": "stdout",
     "output_type": "stream",
     "text": [
      "              Mass       NumofC       NumofH       NumofO       NumofN  \\\n",
      "count  8040.000000  8040.000000  8040.000000  8040.000000  8040.000000   \n",
      "mean    795.993384    44.530846    76.742537    10.400373     0.518408   \n",
      "std     529.267887    28.203330    54.208235    10.691237     1.257854   \n",
      "min      57.997277     2.000000     2.000000     0.000000     0.000000   \n",
      "25%     406.453851    23.000000    32.000000     5.000000     0.000000   \n",
      "50%     735.494473    40.000000    73.000000     7.000000     0.000000   \n",
      "75%     916.751992    58.000000   100.000000    13.000000     0.000000   \n",
      "max    3173.437217   145.000000   270.000000    78.000000     8.000000   \n",
      "\n",
      "            NumofP       NumofS          H:C          H:O          C:O  \\\n",
      "count  8040.000000  8040.000000  8040.000000  8040.000000  8040.000000   \n",
      "mean      0.317786     0.024876     1.652344    10.503900     6.141556   \n",
      "std       0.591125     0.177411     0.332308     8.318223     4.662032   \n",
      "min       0.000000     0.000000     0.333333     0.000000     0.000000   \n",
      "25%       0.000000     0.000000     1.587302     4.250000     2.833333   \n",
      "50%       0.000000     0.000000     1.764706     8.900000     5.000000   \n",
      "75%       1.000000     0.000000     1.866667    15.666667     8.833333   \n",
      "max       5.000000     4.000000     2.666667   156.000000    95.000000   \n",
      "\n",
      "               C:N          C:S          C:P  Afterdecmass          AMD  \\\n",
      "count  8040.000000  8040.000000  8040.000000   8040.000000  8040.000000   \n",
      "mean      7.905228     0.627633    10.705767      0.436056     0.252091   \n",
      "std      15.491603     4.653588    18.600562      0.277286     0.139679   \n",
      "min       0.000000     0.000000     0.000000      0.000100     0.000100   \n",
      "25%       0.000000     0.000000     0.000000      0.179500     0.136200   \n",
      "50%       0.000000     0.000000     0.000000      0.426100     0.235100   \n",
      "75%       0.000000     0.000000    18.000000      0.668700     0.373700   \n",
      "max      90.000000    98.000000    98.000000      0.999500     0.499900   \n",
      "\n",
      "               RMD  \n",
      "count  8040.000000  \n",
      "mean    444.280846  \n",
      "std     282.008952  \n",
      "min       0.000000  \n",
      "25%     225.000000  \n",
      "50%     412.000000  \n",
      "75%     669.000000  \n",
      "max    1272.000000  \n"
     ]
    }
   ],
   "source": [
    "#Get some basic numerical descriptors of the various columns\n",
    "#Uncomment each of these lines one at a time\n",
    "# print (s.info())\n",
    "print (s.describe())\n",
    "\n",
    "#REMEMBER: Categorical features CANNOT be used for machine learning unless you transform them somehow \n",
    "# into numerical features. \n",
    "\n",
    "#Questions:\n",
    "#1) What are categorical features?\n",
    "#2) Which features in this dataset can be used for machine learning?"
   ]
  },
  {
   "cell_type": "code",
   "execution_count": 9,
   "metadata": {},
   "outputs": [
    {
     "data": {
      "image/png": "[encoded data removed]",
      "text/plain": [
       "<Figure size 1080x1080 with 16 Axes>"
      ]
     },
     "metadata": {
      "needs_background": "light"
     },
     "output_type": "display_data"
    }
   ],
   "source": [
    "#Plotting the distributions of the various features\n",
    "s.hist(bins=20,figsize=(15,15), color='#86bf91');\n",
    "\n",
    "#What is matplotlib plotting here? How does it know what values to make histograms from?"
   ]
  },
  {
   "cell_type": "markdown",
   "metadata": {},
   "source": [
    "__Exercise 1:__ \n",
    "\n",
    "Notice the ; at the end of the above command. Remove it and rerun code. What happens?"
   ]
  },
  {
   "cell_type": "code",
   "execution_count": 6,
   "metadata": {},
   "outputs": [
    {
     "data": {
      "text/html": [
       "<div>\n",
       "<style scoped>\n",
       "    .dataframe tbody tr th:only-of-type {\n",
       "        vertical-align: middle;\n",
       "    }\n",
       "\n",
       "    .dataframe tbody tr th {\n",
       "        vertical-align: top;\n",
       "    }\n",
       "\n",
       "    .dataframe thead th {\n",
       "        text-align: right;\n",
       "    }\n",
       "</style>\n",
       "<table border=\"1\" class=\"dataframe\">\n",
       "  <thead>\n",
       "    <tr style=\"text-align: right;\">\n",
       "      <th></th>\n",
       "      <th>Mass</th>\n",
       "      <th>NumofC</th>\n",
       "      <th>NumofH</th>\n",
       "      <th>NumofO</th>\n",
       "      <th>NumofN</th>\n",
       "      <th>NumofP</th>\n",
       "      <th>NumofS</th>\n",
       "      <th>H:C</th>\n",
       "      <th>H:O</th>\n",
       "      <th>C:O</th>\n",
       "      <th>C:N</th>\n",
       "      <th>C:S</th>\n",
       "      <th>C:P</th>\n",
       "      <th>Afterdecmass</th>\n",
       "      <th>AMD</th>\n",
       "      <th>RMD</th>\n",
       "    </tr>\n",
       "  </thead>\n",
       "  <tbody>\n",
       "    <tr>\n",
       "      <th>Mass</th>\n",
       "      <td>1.000000</td>\n",
       "      <td>0.961906</td>\n",
       "      <td>0.941778</td>\n",
       "      <td>0.819958</td>\n",
       "      <td>0.536618</td>\n",
       "      <td>0.149777</td>\n",
       "      <td>-0.019340</td>\n",
       "      <td>0.287180</td>\n",
       "      <td>-0.059477</td>\n",
       "      <td>-0.105774</td>\n",
       "      <td>0.263280</td>\n",
       "      <td>0.017273</td>\n",
       "      <td>0.108919</td>\n",
       "      <td>0.392486</td>\n",
       "      <td>-0.190673</td>\n",
       "      <td>-0.682131</td>\n",
       "    </tr>\n",
       "    <tr>\n",
       "      <th>NumofC</th>\n",
       "      <td>0.961906</td>\n",
       "      <td>1.000000</td>\n",
       "      <td>0.988105</td>\n",
       "      <td>0.638859</td>\n",
       "      <td>0.354107</td>\n",
       "      <td>0.092675</td>\n",
       "      <td>-0.080976</td>\n",
       "      <td>0.337453</td>\n",
       "      <td>0.096838</td>\n",
       "      <td>0.050010</td>\n",
       "      <td>0.181401</td>\n",
       "      <td>-0.043429</td>\n",
       "      <td>0.077555</td>\n",
       "      <td>0.523915</td>\n",
       "      <td>-0.177166</td>\n",
       "      <td>-0.653206</td>\n",
       "    </tr>\n",
       "    <tr>\n",
       "      <th>NumofH</th>\n",
       "      <td>0.941778</td>\n",
       "      <td>0.988105</td>\n",
       "      <td>1.000000</td>\n",
       "      <td>0.592213</td>\n",
       "      <td>0.348003</td>\n",
       "      <td>0.137449</td>\n",
       "      <td>-0.083642</td>\n",
       "      <td>0.462542</td>\n",
       "      <td>0.141324</td>\n",
       "      <td>0.075763</td>\n",
       "      <td>0.217010</td>\n",
       "      <td>-0.042224</td>\n",
       "      <td>0.130964</td>\n",
       "      <td>0.560491</td>\n",
       "      <td>-0.122242</td>\n",
       "      <td>-0.580713</td>\n",
       "    </tr>\n",
       "    <tr>\n",
       "      <th>NumofO</th>\n",
       "      <td>0.819958</td>\n",
       "      <td>0.638859</td>\n",
       "      <td>0.592213</td>\n",
       "      <td>1.000000</td>\n",
       "      <td>0.708235</td>\n",
       "      <td>0.095030</td>\n",
       "      <td>0.037181</td>\n",
       "      <td>0.027131</td>\n",
       "      <td>-0.376191</td>\n",
       "      <td>-0.398118</td>\n",
       "      <td>0.306878</td>\n",
       "      <td>0.053665</td>\n",
       "      <td>0.054290</td>\n",
       "      <td>0.000430</td>\n",
       "      <td>-0.228993</td>\n",
       "      <td>-0.596910</td>\n",
       "    </tr>\n",
       "    <tr>\n",
       "      <th>NumofN</th>\n",
       "      <td>0.536618</td>\n",
       "      <td>0.354107</td>\n",
       "      <td>0.348003</td>\n",
       "      <td>0.708235</td>\n",
       "      <td>1.000000</td>\n",
       "      <td>0.256545</td>\n",
       "      <td>0.306762</td>\n",
       "      <td>0.166060</td>\n",
       "      <td>-0.233511</td>\n",
       "      <td>-0.260604</td>\n",
       "      <td>0.474072</td>\n",
       "      <td>0.384644</td>\n",
       "      <td>0.022794</td>\n",
       "      <td>-0.048333</td>\n",
       "      <td>-0.035039</td>\n",
       "      <td>-0.281621</td>\n",
       "    </tr>\n",
       "    <tr>\n",
       "      <th>NumofP</th>\n",
       "      <td>0.149777</td>\n",
       "      <td>0.092675</td>\n",
       "      <td>0.137449</td>\n",
       "      <td>0.095030</td>\n",
       "      <td>0.256545</td>\n",
       "      <td>1.000000</td>\n",
       "      <td>0.235382</td>\n",
       "      <td>0.295533</td>\n",
       "      <td>-0.158070</td>\n",
       "      <td>-0.204811</td>\n",
       "      <td>0.296271</td>\n",
       "      <td>0.318955</td>\n",
       "      <td>0.808305</td>\n",
       "      <td>0.044792</td>\n",
       "      <td>0.317309</td>\n",
       "      <td>-0.040109</td>\n",
       "    </tr>\n",
       "    <tr>\n",
       "      <th>NumofS</th>\n",
       "      <td>-0.019340</td>\n",
       "      <td>-0.080976</td>\n",
       "      <td>-0.083642</td>\n",
       "      <td>0.037181</td>\n",
       "      <td>0.306762</td>\n",
       "      <td>0.235382</td>\n",
       "      <td>1.000000</td>\n",
       "      <td>-0.074099</td>\n",
       "      <td>-0.107746</td>\n",
       "      <td>-0.106768</td>\n",
       "      <td>-0.025029</td>\n",
       "      <td>0.768493</td>\n",
       "      <td>-0.039327</td>\n",
       "      <td>-0.052361</td>\n",
       "      <td>-0.049145</td>\n",
       "      <td>-0.081300</td>\n",
       "    </tr>\n",
       "    <tr>\n",
       "      <th>H:C</th>\n",
       "      <td>0.287180</td>\n",
       "      <td>0.337453</td>\n",
       "      <td>0.462542</td>\n",
       "      <td>0.027131</td>\n",
       "      <td>0.166060</td>\n",
       "      <td>0.295533</td>\n",
       "      <td>-0.074099</td>\n",
       "      <td>1.000000</td>\n",
       "      <td>0.365933</td>\n",
       "      <td>0.229781</td>\n",
       "      <td>0.292182</td>\n",
       "      <td>-0.015364</td>\n",
       "      <td>0.339068</td>\n",
       "      <td>0.472367</td>\n",
       "      <td>0.386169</td>\n",
       "      <td>0.251063</td>\n",
       "    </tr>\n",
       "    <tr>\n",
       "      <th>H:O</th>\n",
       "      <td>-0.059477</td>\n",
       "      <td>0.096838</td>\n",
       "      <td>0.141324</td>\n",
       "      <td>-0.376191</td>\n",
       "      <td>-0.233511</td>\n",
       "      <td>-0.158070</td>\n",
       "      <td>-0.107746</td>\n",
       "      <td>0.365933</td>\n",
       "      <td>1.000000</td>\n",
       "      <td>0.983299</td>\n",
       "      <td>-0.120117</td>\n",
       "      <td>-0.095386</td>\n",
       "      <td>-0.133213</td>\n",
       "      <td>0.350648</td>\n",
       "      <td>0.190391</td>\n",
       "      <td>0.254955</td>\n",
       "    </tr>\n",
       "    <tr>\n",
       "      <th>C:O</th>\n",
       "      <td>-0.105774</td>\n",
       "      <td>0.050010</td>\n",
       "      <td>0.075763</td>\n",
       "      <td>-0.398118</td>\n",
       "      <td>-0.260604</td>\n",
       "      <td>-0.204811</td>\n",
       "      <td>-0.106768</td>\n",
       "      <td>0.229781</td>\n",
       "      <td>0.983299</td>\n",
       "      <td>1.000000</td>\n",
       "      <td>-0.167863</td>\n",
       "      <td>-0.097351</td>\n",
       "      <td>-0.186255</td>\n",
       "      <td>0.291215</td>\n",
       "      <td>0.151964</td>\n",
       "      <td>0.239552</td>\n",
       "    </tr>\n",
       "    <tr>\n",
       "      <th>C:N</th>\n",
       "      <td>0.263280</td>\n",
       "      <td>0.181401</td>\n",
       "      <td>0.217010</td>\n",
       "      <td>0.306878</td>\n",
       "      <td>0.474072</td>\n",
       "      <td>0.296271</td>\n",
       "      <td>-0.025029</td>\n",
       "      <td>0.292182</td>\n",
       "      <td>-0.120117</td>\n",
       "      <td>-0.167863</td>\n",
       "      <td>1.000000</td>\n",
       "      <td>-0.017082</td>\n",
       "      <td>0.435406</td>\n",
       "      <td>0.170793</td>\n",
       "      <td>0.274494</td>\n",
       "      <td>-0.047649</td>\n",
       "    </tr>\n",
       "    <tr>\n",
       "      <th>C:S</th>\n",
       "      <td>0.017273</td>\n",
       "      <td>-0.043429</td>\n",
       "      <td>-0.042224</td>\n",
       "      <td>0.053665</td>\n",
       "      <td>0.384644</td>\n",
       "      <td>0.318955</td>\n",
       "      <td>0.768493</td>\n",
       "      <td>-0.015364</td>\n",
       "      <td>-0.095386</td>\n",
       "      <td>-0.097351</td>\n",
       "      <td>-0.017082</td>\n",
       "      <td>1.000000</td>\n",
       "      <td>-0.014011</td>\n",
       "      <td>-0.057297</td>\n",
       "      <td>0.009963</td>\n",
       "      <td>-0.061095</td>\n",
       "    </tr>\n",
       "    <tr>\n",
       "      <th>C:P</th>\n",
       "      <td>0.108919</td>\n",
       "      <td>0.077555</td>\n",
       "      <td>0.130964</td>\n",
       "      <td>0.054290</td>\n",
       "      <td>0.022794</td>\n",
       "      <td>0.808305</td>\n",
       "      <td>-0.039327</td>\n",
       "      <td>0.339068</td>\n",
       "      <td>-0.133213</td>\n",
       "      <td>-0.186255</td>\n",
       "      <td>0.435406</td>\n",
       "      <td>-0.014011</td>\n",
       "      <td>1.000000</td>\n",
       "      <td>0.167923</td>\n",
       "      <td>0.508450</td>\n",
       "      <td>0.068154</td>\n",
       "    </tr>\n",
       "    <tr>\n",
       "      <th>Afterdecmass</th>\n",
       "      <td>0.392486</td>\n",
       "      <td>0.523915</td>\n",
       "      <td>0.560491</td>\n",
       "      <td>0.000430</td>\n",
       "      <td>-0.048333</td>\n",
       "      <td>0.044792</td>\n",
       "      <td>-0.052361</td>\n",
       "      <td>0.472367</td>\n",
       "      <td>0.350648</td>\n",
       "      <td>0.291215</td>\n",
       "      <td>0.170793</td>\n",
       "      <td>-0.057297</td>\n",
       "      <td>0.167923</td>\n",
       "      <td>1.000000</td>\n",
       "      <td>0.219266</td>\n",
       "      <td>-0.244479</td>\n",
       "    </tr>\n",
       "    <tr>\n",
       "      <th>AMD</th>\n",
       "      <td>-0.190673</td>\n",
       "      <td>-0.177166</td>\n",
       "      <td>-0.122242</td>\n",
       "      <td>-0.228993</td>\n",
       "      <td>-0.035039</td>\n",
       "      <td>0.317309</td>\n",
       "      <td>-0.049145</td>\n",
       "      <td>0.386169</td>\n",
       "      <td>0.190391</td>\n",
       "      <td>0.151964</td>\n",
       "      <td>0.274494</td>\n",
       "      <td>0.009963</td>\n",
       "      <td>0.508450</td>\n",
       "      <td>0.219266</td>\n",
       "      <td>1.000000</td>\n",
       "      <td>0.603565</td>\n",
       "    </tr>\n",
       "    <tr>\n",
       "      <th>RMD</th>\n",
       "      <td>-0.682131</td>\n",
       "      <td>-0.653206</td>\n",
       "      <td>-0.580713</td>\n",
       "      <td>-0.596910</td>\n",
       "      <td>-0.281621</td>\n",
       "      <td>-0.040109</td>\n",
       "      <td>-0.081300</td>\n",
       "      <td>0.251063</td>\n",
       "      <td>0.254955</td>\n",
       "      <td>0.239552</td>\n",
       "      <td>-0.047649</td>\n",
       "      <td>-0.061095</td>\n",
       "      <td>0.068154</td>\n",
       "      <td>-0.244479</td>\n",
       "      <td>0.603565</td>\n",
       "      <td>1.000000</td>\n",
       "    </tr>\n",
       "  </tbody>\n",
       "</table>\n",
       "</div>"
      ],
      "text/plain": [
       "                  Mass    NumofC    NumofH    NumofO    NumofN    NumofP  \\\n",
       "Mass          1.000000  0.961906  0.941778  0.819958  0.536618  0.149777   \n",
       "NumofC        0.961906  1.000000  0.988105  0.638859  0.354107  0.092675   \n",
       "NumofH        0.941778  0.988105  1.000000  0.592213  0.348003  0.137449   \n",
       "NumofO        0.819958  0.638859  0.592213  1.000000  0.708235  0.095030   \n",
       "NumofN        0.536618  0.354107  0.348003  0.708235  1.000000  0.256545   \n",
       "NumofP        0.149777  0.092675  0.137449  0.095030  0.256545  1.000000   \n",
       "NumofS       -0.019340 -0.080976 -0.083642  0.037181  0.306762  0.235382   \n",
       "H:C           0.287180  0.337453  0.462542  0.027131  0.166060  0.295533   \n",
       "H:O          -0.059477  0.096838  0.141324 -0.376191 -0.233511 -0.158070   \n",
       "C:O          -0.105774  0.050010  0.075763 -0.398118 -0.260604 -0.204811   \n",
       "C:N           0.263280  0.181401  0.217010  0.306878  0.474072  0.296271   \n",
       "C:S           0.017273 -0.043429 -0.042224  0.053665  0.384644  0.318955   \n",
       "C:P           0.108919  0.077555  0.130964  0.054290  0.022794  0.808305   \n",
       "Afterdecmass  0.392486  0.523915  0.560491  0.000430 -0.048333  0.044792   \n",
       "AMD          -0.190673 -0.177166 -0.122242 -0.228993 -0.035039  0.317309   \n",
       "RMD          -0.682131 -0.653206 -0.580713 -0.596910 -0.281621 -0.040109   \n",
       "\n",
       "                NumofS       H:C       H:O       C:O       C:N       C:S  \\\n",
       "Mass         -0.019340  0.287180 -0.059477 -0.105774  0.263280  0.017273   \n",
       "NumofC       -0.080976  0.337453  0.096838  0.050010  0.181401 -0.043429   \n",
       "NumofH       -0.083642  0.462542  0.141324  0.075763  0.217010 -0.042224   \n",
       "NumofO        0.037181  0.027131 -0.376191 -0.398118  0.306878  0.053665   \n",
       "NumofN        0.306762  0.166060 -0.233511 -0.260604  0.474072  0.384644   \n",
       "NumofP        0.235382  0.295533 -0.158070 -0.204811  0.296271  0.318955   \n",
       "NumofS        1.000000 -0.074099 -0.107746 -0.106768 -0.025029  0.768493   \n",
       "H:C          -0.074099  1.000000  0.365933  0.229781  0.292182 -0.015364   \n",
       "H:O          -0.107746  0.365933  1.000000  0.983299 -0.120117 -0.095386   \n",
       "C:O          -0.106768  0.229781  0.983299  1.000000 -0.167863 -0.097351   \n",
       "C:N          -0.025029  0.292182 -0.120117 -0.167863  1.000000 -0.017082   \n",
       "C:S           0.768493 -0.015364 -0.095386 -0.097351 -0.017082  1.000000   \n",
       "C:P          -0.039327  0.339068 -0.133213 -0.186255  0.435406 -0.014011   \n",
       "Afterdecmass -0.052361  0.472367  0.350648  0.291215  0.170793 -0.057297   \n",
       "AMD          -0.049145  0.386169  0.190391  0.151964  0.274494  0.009963   \n",
       "RMD          -0.081300  0.251063  0.254955  0.239552 -0.047649 -0.061095   \n",
       "\n",
       "                   C:P  Afterdecmass       AMD       RMD  \n",
       "Mass          0.108919      0.392486 -0.190673 -0.682131  \n",
       "NumofC        0.077555      0.523915 -0.177166 -0.653206  \n",
       "NumofH        0.130964      0.560491 -0.122242 -0.580713  \n",
       "NumofO        0.054290      0.000430 -0.228993 -0.596910  \n",
       "NumofN        0.022794     -0.048333 -0.035039 -0.281621  \n",
       "NumofP        0.808305      0.044792  0.317309 -0.040109  \n",
       "NumofS       -0.039327     -0.052361 -0.049145 -0.081300  \n",
       "H:C           0.339068      0.472367  0.386169  0.251063  \n",
       "H:O          -0.133213      0.350648  0.190391  0.254955  \n",
       "C:O          -0.186255      0.291215  0.151964  0.239552  \n",
       "C:N           0.435406      0.170793  0.274494 -0.047649  \n",
       "C:S          -0.014011     -0.057297  0.009963 -0.061095  \n",
       "C:P           1.000000      0.167923  0.508450  0.068154  \n",
       "Afterdecmass  0.167923      1.000000  0.219266 -0.244479  \n",
       "AMD           0.508450      0.219266  1.000000  0.603565  \n",
       "RMD           0.068154     -0.244479  0.603565  1.000000  "
      ]
     },
     "execution_count": 6,
     "metadata": {},
     "output_type": "execute_result"
    }
   ],
   "source": [
    "#Next we look at correlations between the different variables. \n",
    "allcorrel=s.corr()\n",
    "allcorrel.columns\n",
    "#len(allcorrel.columns)\n",
    "allcorrel\n",
    "\n",
    "#Why do you need to do this analysis? What will happen if correlated variables are included for training \n",
    "#the machine learning models?"
   ]
  },
  {
   "cell_type": "code",
   "execution_count": 7,
   "metadata": {},
   "outputs": [
    {
     "data": {
      "image/png": "[encoded data removed]",
      "text/plain": [
       "<Figure size 432x288 with 1 Axes>"
      ]
     },
     "metadata": {
      "needs_background": "light"
     },
     "output_type": "display_data"
    }
   ],
   "source": [
    "#Let us first plot a basic heatmap\n",
    "\n",
    "fig, ax = plt.subplots()\n",
    "ax.imshow(allcorrel,cmap='plasma',origin='lower')\n",
    "plt.show()"
   ]
  },
  {
   "cell_type": "markdown",
   "metadata": {},
   "source": [
    "As you can see, this does not make good X-axis and Y-axis labels. We need to provide them separately."
   ]
  },
  {
   "cell_type": "code",
   "execution_count": 10,
   "metadata": {},
   "outputs": [
    {
     "name": "stdout",
     "output_type": "stream",
     "text": [
      "> Index(['Mass', 'NumofC', 'NumofH', 'NumofO', 'NumofN', 'NumofP', 'NumofS',\n",
      "       'H:C', 'H:O', 'C:O', 'C:N', 'C:S', 'C:P', 'Afterdecmass', 'AMD', 'RMD'],\n",
      "      dtype='object')\n",
      ">>> 16\n",
      ">>>>> [ 0  1  2  3  4  5  6  7  8  9 10 11 12 13 14 15]\n"
     ]
    }
   ],
   "source": [
    "#For the next command, it is important to first understand what allcorrel.columns is\n",
    "print (\">\", allcorrel.columns) #these are the column names\n",
    "print (\">>>\", len(allcorrel.columns)) #the len function shows how many columns there are\n",
    "print (\">>>>>\", np.arange(len(allcorrel.columns))) #arange functions returns all values from 0-16\n",
    "\n",
    "#We will use these values for plotting a better heatmap"
   ]
  },
  {
   "cell_type": "code",
   "execution_count": 11,
   "metadata": {},
   "outputs": [
    {
     "data": {
      "image/png": "[encoded data removed]",
      "text/plain": [
       "<Figure size 576x576 with 1 Axes>"
      ]
     },
     "metadata": {
      "needs_background": "light"
     },
     "output_type": "display_data"
    }
   ],
   "source": [
    "#Create empty plot variables\n",
    "fig, ax = plt.subplots()\n",
    "\n",
    "#Lets first set the ax\n",
    "ax.imshow(allcorrel,cmap='plasma',origin='lower') #other color options: viridis, inferno, hot, magma, cividis etc\n",
    "#https://matplotlib.org/tutorials/colors/colormaps.html\n",
    "\n",
    "ax.set_xticks(np.arange(len(allcorrel.columns))) #This is the >>>>> above\n",
    "ax.set_yticks(np.arange(len(allcorrel.columns))) #This is the >>>>> above\n",
    "ax.set_xticklabels(allcorrel.columns) #X-axis labels > above\n",
    "ax.set_yticklabels(allcorrel.columns) #Y-axis labels > above\n",
    "plt.setp(ax.get_xticklabels(), rotation=45, ha=\"right\", rotation_mode=\"anchor\",size=12)\n",
    "plt.setp(ax.get_yticklabels(), rotation=0, ha=\"right\", rotation_mode=\"anchor\",size=12)\n",
    "ax.set_title(\"Pairwise Pearsons Correlation Coefficients between features\")\n",
    "\n",
    "#Now set the fig\n",
    "fig.set_size_inches(8,8)\n",
    "fig.tight_layout()"
   ]
  },
  {
   "cell_type": "markdown",
   "metadata": {},
   "source": [
    "Seaborn, which is a wrapper built around matplotlib libraries, solves this problem of code complexity by making the whole block above basically a 4-line code block."
   ]
  },
  {
   "cell_type": "code",
   "execution_count": 12,
   "metadata": {},
   "outputs": [
    {
     "data": {
      "image/png": "[encoded data removed]",
      "text/plain": [
       "<Figure size 864x864 with 2 Axes>"
      ]
     },
     "metadata": {
      "needs_background": "light"
     },
     "output_type": "display_data"
    }
   ],
   "source": [
    "#Seaborn code\n",
    "plt.figure(figsize=(12,12))\n",
    "ax = sns.heatmap(allcorrel, cmap=\"plasma\")\n",
    "plt.xticks(rotation=45)\n",
    "ax.invert_yaxis()"
   ]
  },
  {
   "cell_type": "markdown",
   "metadata": {},
   "source": [
    "__POP QUIZ:__ \n",
    "\n",
    "1. What does the above figure show?\n",
    "2. Which features are correlated with each other? From your organic chemistry knowledge, does it make sense?"
   ]
  },
  {
   "cell_type": "markdown",
   "metadata": {},
   "source": [
    "## Setting up and executing the machine learning models"
   ]
  },
  {
   "cell_type": "code",
   "execution_count": 14,
   "metadata": {},
   "outputs": [],
   "source": [
    "#import required modules\n",
    "from sklearn.model_selection import train_test_split\n",
    "from sklearn.model_selection import cross_val_score\n",
    "from sklearn.ensemble import RandomForestClassifier\n",
    "#Example Documentation: https://scikit-learn.org/stable/modules/generated/sklearn.model_selection.train_test_split.html"
   ]
  },
  {
   "cell_type": "code",
   "execution_count": 15,
   "metadata": {},
   "outputs": [
    {
     "name": "stdout",
     "output_type": "stream",
     "text": [
      "          Mass  NumofC  NumofH  NumofO  NumofN  NumofP  NumofS       H:C  \\\n",
      "0   141.018786       6       5       4       0       0       0  0.833333   \n",
      "1   322.287181      21      38       2       0       0       0  1.809524   \n",
      "2   104.047345       4       8       3       0       0       0  2.000000   \n",
      "3   146.094295       7      14       3       0       0       0  2.000000   \n",
      "4  1295.341213      88     174       4       0       0       0  1.977273   \n",
      "\n",
      "         H:O        C:O  C:N  C:S  C:P  Afterdecmass     AMD  RMD  \n",
      "0   1.250000   1.500000  0.0  0.0  0.0        0.9876  0.0124   70  \n",
      "1  19.000000  10.500000  0.0  0.0  0.0        0.2872  0.2872  891  \n",
      "2   2.666667   1.333333  0.0  0.0  0.0        0.0473  0.0473  455  \n",
      "3   4.666667   2.333333  0.0  0.0  0.0        0.0943  0.0943  645  \n",
      "4  43.500000  22.000000  0.0  0.0  0.0        0.3412  0.3412  263  \n",
      "0    Fatty_Acyls\n",
      "1    Fatty_Acyls\n",
      "2    Fatty_Acyls\n",
      "3    Fatty_Acyls\n",
      "4    Fatty_Acyls\n",
      "Name: Category, dtype: object\n"
     ]
    }
   ],
   "source": [
    "#First, define which columns are labels and which are features\n",
    "labels=s['Category']\n",
    "feats=s[s.columns[5:]] #Are these the correct columns? Go back to the table where you defined s and check.\n",
    "annot=s[s.columns[0:5]]\n",
    "\n",
    "#Additionally, uncomment each line below to print only the top 5 rows of each variable to make sure correct columns \n",
    "#were indeed pulled out\n",
    "print (feats.head())\n",
    "print (labels.head())"
   ]
  },
  {
   "cell_type": "markdown",
   "metadata": {},
   "source": [
    "### Variation 1: Splitting data using train-test-split"
   ]
  },
  {
   "cell_type": "markdown",
   "metadata": {},
   "source": [
    "Split your data into training and test sets - here we are specifying the size of the test set as 0.2 (20%) of the main dataset, which has 8040 entries. We have to specify training and test labels as well as features. Check if the split is really 80:20.\n",
    "\n",
    "Also note that we are not doing any Kfold cross-validation. If the dataset is sufficiently large, you can train the model on the training and test it on a sufficiently large test set. This is not advisable, but is the simplest form of training that can be done. No cross-validation required."
   ]
  },
  {
   "cell_type": "code",
   "execution_count": 16,
   "metadata": {},
   "outputs": [
    {
     "name": "stdout",
     "output_type": "stream",
     "text": [
      "(1608,)\n",
      "(6432,)\n",
      "(1608, 16)\n",
      "(6432, 16)\n"
     ]
    }
   ],
   "source": [
    "train_feats, test_feats, train_labels, test_labels  = train_test_split (feats, labels, test_size=0.2)\n",
    "print (test_labels.shape)\n",
    "print (train_labels.shape)\n",
    "print (test_feats.shape)\n",
    "print (train_feats.shape)\n",
    "\n",
    "#Does this look ok? Is the test set 20% of the original?"
   ]
  },
  {
   "cell_type": "code",
   "execution_count": 17,
   "metadata": {},
   "outputs": [],
   "source": [
    "#Lets make a function here to train our machine learning model\n",
    "#We are running a multi-class classifier here, instead of a binary classifier (yes, no)\n",
    "def random_forest_classifier(features, target):\n",
    "    \"\"\"\n",
    "    To train the random forest classifier with features and target data\n",
    "    :param features: features\n",
    "    :param target: labels\n",
    "    :return: trained random forest classifier\n",
    "    \"\"\"\n",
    "    clf = RandomForestClassifier(n_estimators=100)\n",
    "    #estimators stands for the number of decision trees you want to implement\n",
    "    #Documentation: https://scikit-learn.org/stable/modules/generated/sklearn.ensemble.RandomForestClassifier.html\n",
    "    clf.fit(features, target)\n",
    "    return clf"
   ]
  },
  {
   "cell_type": "code",
   "execution_count": 18,
   "metadata": {},
   "outputs": [],
   "source": [
    "#Running the randomForestClassifier\n",
    "trained_model = random_forest_classifier(train_feats, train_labels)"
   ]
  },
  {
   "cell_type": "code",
   "execution_count": 19,
   "metadata": {},
   "outputs": [],
   "source": [
    "#Let's see if the trained model predicts the test features correctly. \n",
    "pred_labels=trained_model.predict(test_feats)\n",
    "pred_probs=trained_model.predict_proba(test_feats)"
   ]
  },
  {
   "cell_type": "code",
   "execution_count": 39,
   "metadata": {
    "scrolled": false
   },
   "outputs": [
    {
     "data": {
      "text/plain": [
       "array(['Glycerophospholipids', 'Fatty_Acyls', 'Fatty_Acyls', ...,\n",
       "       'Fatty_Acyls', 'Fatty_Acyls', 'Glycerophospholipids'], dtype=object)"
      ]
     },
     "execution_count": 39,
     "metadata": {},
     "output_type": "execute_result"
    }
   ],
   "source": [
    "#Uncomment each line below to understand what's going on\n",
    "\n",
    "trained_model.__dict__ #This just shows you the model, and in this case we are only using default values, so its showing up as ().\n",
    "pred_labels\n",
    "# pred_probs #Probabilities of each test instance belonging to each class  -- each row shows probability of \n",
    "# the instance belonging to each of the 8 classes"
   ]
  },
  {
   "cell_type": "code",
   "execution_count": 47,
   "metadata": {},
   "outputs": [
    {
     "ename": "AttributeError",
     "evalue": "'GridSearchCV' object has no attribute 'feature_names_in_'",
     "output_type": "error",
     "traceback": [
      "\u001b[0;31m---------------------------------------------------------------------------\u001b[0m",
      "\u001b[0;31mAttributeError\u001b[0m                            Traceback (most recent call last)",
      "Input \u001b[0;32mIn [47]\u001b[0m, in \u001b[0;36m<module>\u001b[0;34m\u001b[0m\n\u001b[0;32m----> 1\u001b[0m \u001b[43mtrained_model\u001b[49m\u001b[38;5;241;43m.\u001b[39;49m\u001b[43mfeature_names_in_\u001b[49m\n\u001b[1;32m      2\u001b[0m trained_model\u001b[38;5;241m.\u001b[39mfeature_importances_\n",
      "\u001b[0;31mAttributeError\u001b[0m: 'GridSearchCV' object has no attribute 'feature_names_in_'"
     ]
    }
   ],
   "source": [
    "trained_model.feature_names_in_\n",
    "trained_model.feature_importances_"
   ]
  },
  {
   "cell_type": "markdown",
   "metadata": {},
   "source": [
    "### Variation 2: Using KFold cross-validation"
   ]
  },
  {
   "cell_type": "code",
   "execution_count": 35,
   "metadata": {},
   "outputs": [
    {
     "name": "stderr",
     "output_type": "stream",
     "text": [
      "/Users/zl725/.local/lib/python3.9/site-packages/sklearn/utils/validation.py:67: FutureWarning: Pass shuffle=True, random_state=1 as keyword args. From version 0.25 passing these as positional arguments will result in an error\n",
      "  warnings.warn(\"Pass {} as keyword args. From version 0.25 \"\n",
      "[Parallel(n_jobs=-1)]: Using backend LokyBackend with 8 concurrent workers.\n"
     ]
    },
    {
     "name": "stdout",
     "output_type": "stream",
     "text": [
      "[CV]  ................................................................\n",
      "[CV]  ................................................................\n",
      "[CV]  ................................................................\n",
      "[CV]  ................................................................\n",
      "[CV]  ................................................................\n",
      "[CV] .................................... , score=0.970, total=   0.6s\n",
      "[CV] .................................... , score=0.956, total=   0.6s\n",
      "[CV] .................................... , score=0.962, total=   0.6s\n",
      "[CV] .................................... , score=0.951, total=   0.6s\n",
      "[CV] .................................... , score=0.964, total=   0.7s\n"
     ]
    },
    {
     "name": "stderr",
     "output_type": "stream",
     "text": [
      "[Parallel(n_jobs=-1)]: Done   2 out of   5 | elapsed:    2.1s remaining:    3.2s\n",
      "[Parallel(n_jobs=-1)]: Done   5 out of   5 | elapsed:    2.2s finished\n"
     ]
    }
   ],
   "source": [
    "from sklearn.model_selection import KFold\n",
    "kfold = KFold(5, True, 1) #An empty splitter object for 5-fold cross validation\n",
    "\n",
    "#Setup the basic model\n",
    "rf = RandomForestClassifier(n_estimators=100)\n",
    "\n",
    "#Train the model using cross-validation\n",
    "scores = cross_val_score(rf, train_feats, train_labels, scoring='accuracy', cv=kfold, n_jobs=-1, verbose=3)"
   ]
  },
  {
   "cell_type": "code",
   "execution_count": 36,
   "metadata": {},
   "outputs": [
    {
     "data": {
      "text/plain": [
       "array([0.96192696, 0.95648796, 0.95101089, 0.96423017, 0.96967341])"
      ]
     },
     "execution_count": 36,
     "metadata": {},
     "output_type": "execute_result"
    }
   ],
   "source": [
    "scores"
   ]
  },
  {
   "cell_type": "markdown",
   "metadata": {},
   "source": [
    "__POP QUIZ:__\n",
    "\n",
    "* Which value does the score represent?\n",
    "* Look at the manual entry and figure out how you can show AUROC values (https://scikit-learn.org/stable/modules/model_evaluation.html#scoring-parameter)"
   ]
  },
  {
   "cell_type": "markdown",
   "metadata": {},
   "source": [
    "### Variation 3: Using grid search across all RandomForest parameters"
   ]
  },
  {
   "cell_type": "code",
   "execution_count": 46,
   "metadata": {},
   "outputs": [
    {
     "name": "stderr",
     "output_type": "stream",
     "text": [
      "/Users/zl725/.local/lib/python3.9/site-packages/sklearn/utils/validation.py:67: FutureWarning: Pass shuffle=True, random_state=1 as keyword args. From version 0.25 passing these as positional arguments will result in an error\n",
      "  warnings.warn(\"Pass {} as keyword args. From version 0.25 \"\n"
     ]
    },
    {
     "name": "stdout",
     "output_type": "stream",
     "text": [
      "{'scoring': 'accuracy', 'estimator': RandomForestClassifier(), 'n_jobs': -1, 'iid': 'deprecated', 'refit': True, 'cv': KFold(n_splits=5, random_state=1, shuffle=True), 'verbose': 0, 'pre_dispatch': '2*n_jobs', 'error_score': nan, 'return_train_score': False, 'param_grid': {'n_estimators': [100, 200, 300], 'criterion': ['gini', 'entropy'], 'bootstrap': [True, False]}, 'multimetric_': False, 'best_index_': 3, 'best_score_': 0.9619091984566323, 'best_params_': {'bootstrap': True, 'criterion': 'entropy', 'n_estimators': 100}, 'best_estimator_': RandomForestClassifier(criterion='entropy'), 'refit_time_': 0.6443920135498047, 'scorer_': make_scorer(accuracy_score), 'cv_results_': {'mean_fit_time': array([0.76813345, 1.59609385, 2.34210873, 0.92047997, 1.96146193,\n",
      "       2.82620316, 0.97334986, 1.9733562 , 3.08845477, 1.29480343,\n",
      "       2.47020793, 2.90366178]), 'std_fit_time': array([0.02194384, 0.05470089, 0.05519406, 0.11073503, 0.11543402,\n",
      "       0.12012866, 0.06566219, 0.12759846, 0.09243989, 0.10785545,\n",
      "       0.10465492, 0.29237841]), 'mean_score_time': array([0.02164106, 0.04495878, 0.0763948 , 0.02390447, 0.04751949,\n",
      "       0.0671618 , 0.02552209, 0.04763885, 0.0843514 , 0.02812748,\n",
      "       0.04426818, 0.04618392]), 'std_score_time': array([0.0029507 , 0.00600328, 0.0099745 , 0.00530254, 0.00601372,\n",
      "       0.0041905 , 0.00702922, 0.00534256, 0.01242039, 0.00844292,\n",
      "       0.00401254, 0.0027829 ]), 'param_bootstrap': masked_array(data=[True, True, True, True, True, True, False, False,\n",
      "                   False, False, False, False],\n",
      "             mask=[False, False, False, False, False, False, False, False,\n",
      "                   False, False, False, False],\n",
      "       fill_value='?',\n",
      "            dtype=object), 'param_criterion': masked_array(data=['gini', 'gini', 'gini', 'entropy', 'entropy',\n",
      "                   'entropy', 'gini', 'gini', 'gini', 'entropy',\n",
      "                   'entropy', 'entropy'],\n",
      "             mask=[False, False, False, False, False, False, False, False,\n",
      "                   False, False, False, False],\n",
      "       fill_value='?',\n",
      "            dtype=object), 'param_n_estimators': masked_array(data=[100, 200, 300, 100, 200, 300, 100, 200, 300, 100, 200,\n",
      "                   300],\n",
      "             mask=[False, False, False, False, False, False, False, False,\n",
      "                   False, False, False, False],\n",
      "       fill_value='?',\n",
      "            dtype=object), 'params': [{'bootstrap': True, 'criterion': 'gini', 'n_estimators': 100}, {'bootstrap': True, 'criterion': 'gini', 'n_estimators': 200}, {'bootstrap': True, 'criterion': 'gini', 'n_estimators': 300}, {'bootstrap': True, 'criterion': 'entropy', 'n_estimators': 100}, {'bootstrap': True, 'criterion': 'entropy', 'n_estimators': 200}, {'bootstrap': True, 'criterion': 'entropy', 'n_estimators': 300}, {'bootstrap': False, 'criterion': 'gini', 'n_estimators': 100}, {'bootstrap': False, 'criterion': 'gini', 'n_estimators': 200}, {'bootstrap': False, 'criterion': 'gini', 'n_estimators': 300}, {'bootstrap': False, 'criterion': 'entropy', 'n_estimators': 100}, {'bootstrap': False, 'criterion': 'entropy', 'n_estimators': 200}, {'bootstrap': False, 'criterion': 'entropy', 'n_estimators': 300}], 'split0_test_score': array([0.96037296, 0.96192696, 0.96348096, 0.96348096, 0.96348096,\n",
      "       0.96192696, 0.96114996, 0.96114996, 0.96270396, 0.96114996,\n",
      "       0.96114996, 0.96192696]), 'split1_test_score': array([0.95726496, 0.95804196, 0.95726496, 0.96037296, 0.96037296,\n",
      "       0.96037296, 0.95648796, 0.95648796, 0.95726496, 0.95959596,\n",
      "       0.95648796, 0.95726496]), 'split2_test_score': array([0.95023328, 0.94945568, 0.94945568, 0.95178849, 0.95101089,\n",
      "       0.94790047, 0.94634526, 0.94634526, 0.94867807, 0.95178849,\n",
      "       0.94790047, 0.94712286]), 'split3_test_score': array([0.96345257, 0.96345257, 0.96111975, 0.96500778, 0.96345257,\n",
      "       0.96267496, 0.96423017, 0.96345257, 0.96500778, 0.96734059,\n",
      "       0.9681182 , 0.96656299]), 'split4_test_score': array([0.96967341, 0.9688958 , 0.97045101, 0.9688958 , 0.96967341,\n",
      "       0.96734059, 0.9688958 , 0.96734059, 0.9681182 , 0.9688958 ,\n",
      "       0.9688958 , 0.9688958 ]), 'mean_test_score': array([0.96019943, 0.96035459, 0.96035447, 0.9619092 , 0.96159816,\n",
      "       0.96004319, 0.95942183, 0.95895527, 0.96035459, 0.96175416,\n",
      "       0.96051048, 0.96035471]), 'std_test_score': array([0.00645453, 0.00646771, 0.00693728, 0.00575627, 0.00609565,\n",
      "       0.00650048, 0.00768722, 0.00721742, 0.00683128, 0.00610817,\n",
      "       0.00779478, 0.00772778]), 'rank_test_score': array([ 9,  6,  8,  1,  3, 10, 11, 12,  6,  2,  4,  5], dtype=int32)}, 'n_splits_': 5}\n",
      ">>>>> {'bootstrap': True, 'criterion': 'entropy', 'n_estimators': 100}\n"
     ]
    }
   ],
   "source": [
    "from sklearn.model_selection import GridSearchCV\n",
    "#Set up the parameters for grid search\n",
    "grid_param = {\n",
    "    'n_estimators': [100, 200, 300],\n",
    "    'criterion': ['gini', 'entropy'],\n",
    "    'bootstrap': [True, False]\n",
    "}\n",
    "#Create an empty model\n",
    "rf = RandomForestClassifier(n_estimators=100)\n",
    "kfold = KFold(5, True, 1)\n",
    "\n",
    "#Create a GridSearchCV object\n",
    "grid_search = GridSearchCV(estimator=rf, param_grid=grid_param, scoring='accuracy', cv=kfold, n_jobs=-1)\n",
    "\n",
    "#Fit the model to the data\n",
    "trained_model=grid_search.fit(train_feats, train_labels)\n",
    "\n",
    "#See all properties of trained_model\n",
    "print (trained_model.__dict__)\n",
    "\n",
    "#Print best parameters\n",
    "best_params = grid_search.best_params_\n",
    "print (\">>>>>\", best_params)"
   ]
  },
  {
   "cell_type": "markdown",
   "metadata": {},
   "source": [
    "OK - now we are proceeding with the best model from grid search and seeing how it behaves with the test dataset. We will:\n",
    "* Make predictions on the test data\n",
    "* Output the predictions to a tab-delimited file\n",
    "* See if the file is correctly formatted\n",
    "* Fix any errors that occur"
   ]
  },
  {
   "cell_type": "code",
   "execution_count": 48,
   "metadata": {},
   "outputs": [],
   "source": [
    "# Performance on the test set\n",
    "pred_labels=trained_model.predict(test_feats)\n",
    "pred_probs=trained_model.predict_proba(test_feats)"
   ]
  },
  {
   "cell_type": "markdown",
   "metadata": {},
   "source": [
    "Let us output these predictions to a file"
   ]
  },
  {
   "cell_type": "code",
   "execution_count": 49,
   "metadata": {},
   "outputs": [],
   "source": [
    "#Now check how many elements are contained within pred_labels. Is it a matrix of values?\n",
    "dfx = pd.concat([test_feats, pd.DataFrame(pred_labels, columns=[\"Predicted labels\"]), \n",
    "                 pd.DataFrame(pred_probs, columns=[\"A\",\"B\",\"C\",\"D\",\"E\",\"F\",\"G\",\"H\"])], axis=1)\n",
    "dfx.to_csv(path_or_buf=\"results.tab\",index=True,sep='\\t')\n",
    "\n",
    "#Check the output. Is it correct? You should scroll down to t"
   ]
  },
  {
   "cell_type": "code",
   "execution_count": 50,
   "metadata": {},
   "outputs": [],
   "source": [
    "#Now check how many elements are contained within pred_labels. Is it a matrix of values?\n",
    "\n",
    "dfx1 = pd.concat([test_feats, pd.DataFrame(test_labels)], axis=1, sort=False)\n",
    "dfx = pd.concat([dfx1.reset_index(),\n",
    "                 pd.DataFrame(pred_labels, columns=[\"Predicted labels\"]), \n",
    "                 pd.DataFrame(pred_probs, columns=[\"A\",\"B\",\"C\",\"D\",\"E\",\"F\",\"G\",\"H\"])], axis=1)\n",
    "\n",
    "dfx.to_csv(path_or_buf=\"results2.tab\",index=True,sep='\\t')"
   ]
  },
  {
   "cell_type": "code",
   "execution_count": 51,
   "metadata": {},
   "outputs": [
    {
     "data": {
      "text/html": [
       "<div>\n",
       "<style scoped>\n",
       "    .dataframe tbody tr th:only-of-type {\n",
       "        vertical-align: middle;\n",
       "    }\n",
       "\n",
       "    .dataframe tbody tr th {\n",
       "        vertical-align: top;\n",
       "    }\n",
       "\n",
       "    .dataframe thead th {\n",
       "        text-align: right;\n",
       "    }\n",
       "</style>\n",
       "<table border=\"1\" class=\"dataframe\">\n",
       "  <thead>\n",
       "    <tr style=\"text-align: right;\">\n",
       "      <th></th>\n",
       "      <th>Mass</th>\n",
       "      <th>NumofC</th>\n",
       "      <th>NumofH</th>\n",
       "      <th>NumofO</th>\n",
       "      <th>NumofN</th>\n",
       "      <th>NumofP</th>\n",
       "      <th>NumofS</th>\n",
       "      <th>H:C</th>\n",
       "      <th>H:O</th>\n",
       "      <th>C:O</th>\n",
       "      <th>C:N</th>\n",
       "      <th>C:S</th>\n",
       "      <th>C:P</th>\n",
       "      <th>Afterdecmass</th>\n",
       "      <th>AMD</th>\n",
       "      <th>RMD</th>\n",
       "      <th>Category</th>\n",
       "    </tr>\n",
       "  </thead>\n",
       "  <tbody>\n",
       "    <tr>\n",
       "      <th>3580</th>\n",
       "      <td>772.504309</td>\n",
       "      <td>45</td>\n",
       "      <td>73</td>\n",
       "      <td>8</td>\n",
       "      <td>0</td>\n",
       "      <td>1</td>\n",
       "      <td>0</td>\n",
       "      <td>1.622222</td>\n",
       "      <td>9.125000</td>\n",
       "      <td>5.625000</td>\n",
       "      <td>0.0</td>\n",
       "      <td>0.0</td>\n",
       "      <td>45.0</td>\n",
       "      <td>0.5043</td>\n",
       "      <td>0.4957</td>\n",
       "      <td>642</td>\n",
       "      <td>Glycerophospholipids</td>\n",
       "    </tr>\n",
       "    <tr>\n",
       "      <th>43</th>\n",
       "      <td>112.088815</td>\n",
       "      <td>7</td>\n",
       "      <td>12</td>\n",
       "      <td>1</td>\n",
       "      <td>0</td>\n",
       "      <td>0</td>\n",
       "      <td>0</td>\n",
       "      <td>1.714286</td>\n",
       "      <td>12.000000</td>\n",
       "      <td>7.000000</td>\n",
       "      <td>0.0</td>\n",
       "      <td>0.0</td>\n",
       "      <td>0.0</td>\n",
       "      <td>0.0888</td>\n",
       "      <td>0.0888</td>\n",
       "      <td>792</td>\n",
       "      <td>Fatty_Acyls</td>\n",
       "    </tr>\n",
       "    <tr>\n",
       "      <th>1221</th>\n",
       "      <td>316.203846</td>\n",
       "      <td>20</td>\n",
       "      <td>28</td>\n",
       "      <td>3</td>\n",
       "      <td>0</td>\n",
       "      <td>0</td>\n",
       "      <td>0</td>\n",
       "      <td>1.400000</td>\n",
       "      <td>9.333333</td>\n",
       "      <td>6.666667</td>\n",
       "      <td>0.0</td>\n",
       "      <td>0.0</td>\n",
       "      <td>0.0</td>\n",
       "      <td>0.2038</td>\n",
       "      <td>0.2038</td>\n",
       "      <td>645</td>\n",
       "      <td>Fatty_Acyls</td>\n",
       "    </tr>\n",
       "    <tr>\n",
       "      <th>1125</th>\n",
       "      <td>252.208930</td>\n",
       "      <td>16</td>\n",
       "      <td>28</td>\n",
       "      <td>2</td>\n",
       "      <td>0</td>\n",
       "      <td>0</td>\n",
       "      <td>0</td>\n",
       "      <td>1.750000</td>\n",
       "      <td>14.000000</td>\n",
       "      <td>8.000000</td>\n",
       "      <td>0.0</td>\n",
       "      <td>0.0</td>\n",
       "      <td>0.0</td>\n",
       "      <td>0.2089</td>\n",
       "      <td>0.2089</td>\n",
       "      <td>828</td>\n",
       "      <td>Fatty_Acyls</td>\n",
       "    </tr>\n",
       "    <tr>\n",
       "      <th>4300</th>\n",
       "      <td>759.577808</td>\n",
       "      <td>42</td>\n",
       "      <td>82</td>\n",
       "      <td>8</td>\n",
       "      <td>1</td>\n",
       "      <td>1</td>\n",
       "      <td>0</td>\n",
       "      <td>1.952381</td>\n",
       "      <td>10.250000</td>\n",
       "      <td>5.250000</td>\n",
       "      <td>42.0</td>\n",
       "      <td>0.0</td>\n",
       "      <td>42.0</td>\n",
       "      <td>0.5778</td>\n",
       "      <td>0.4222</td>\n",
       "      <td>556</td>\n",
       "      <td>Glycerophospholipids</td>\n",
       "    </tr>\n",
       "  </tbody>\n",
       "</table>\n",
       "</div>"
      ],
      "text/plain": [
       "            Mass  NumofC  NumofH  NumofO  NumofN  NumofP  NumofS       H:C  \\\n",
       "3580  772.504309      45      73       8       0       1       0  1.622222   \n",
       "43    112.088815       7      12       1       0       0       0  1.714286   \n",
       "1221  316.203846      20      28       3       0       0       0  1.400000   \n",
       "1125  252.208930      16      28       2       0       0       0  1.750000   \n",
       "4300  759.577808      42      82       8       1       1       0  1.952381   \n",
       "\n",
       "            H:O       C:O   C:N  C:S   C:P  Afterdecmass     AMD  RMD  \\\n",
       "3580   9.125000  5.625000   0.0  0.0  45.0        0.5043  0.4957  642   \n",
       "43    12.000000  7.000000   0.0  0.0   0.0        0.0888  0.0888  792   \n",
       "1221   9.333333  6.666667   0.0  0.0   0.0        0.2038  0.2038  645   \n",
       "1125  14.000000  8.000000   0.0  0.0   0.0        0.2089  0.2089  828   \n",
       "4300  10.250000  5.250000  42.0  0.0  42.0        0.5778  0.4222  556   \n",
       "\n",
       "                  Category  \n",
       "3580  Glycerophospholipids  \n",
       "43             Fatty_Acyls  \n",
       "1221           Fatty_Acyls  \n",
       "1125           Fatty_Acyls  \n",
       "4300  Glycerophospholipids  "
      ]
     },
     "execution_count": 51,
     "metadata": {},
     "output_type": "execute_result"
    }
   ],
   "source": [
    "#why did we have to use such a complicated statement? Because there are no indexes available for the pred_labels/probs\n",
    "#to merge with the test_labels and test_feats datasets.\n",
    "\n",
    "pred_probs\n",
    "dfx1.head()"
   ]
  },
  {
   "cell_type": "code",
   "execution_count": 52,
   "metadata": {},
   "outputs": [
    {
     "data": {
      "text/html": [
       "<div>\n",
       "<style scoped>\n",
       "    .dataframe tbody tr th:only-of-type {\n",
       "        vertical-align: middle;\n",
       "    }\n",
       "\n",
       "    .dataframe tbody tr th {\n",
       "        vertical-align: top;\n",
       "    }\n",
       "\n",
       "    .dataframe thead th {\n",
       "        text-align: right;\n",
       "    }\n",
       "</style>\n",
       "<table border=\"1\" class=\"dataframe\">\n",
       "  <thead>\n",
       "    <tr style=\"text-align: right;\">\n",
       "      <th></th>\n",
       "      <th>Mass</th>\n",
       "      <th>NumofC</th>\n",
       "      <th>NumofH</th>\n",
       "      <th>NumofO</th>\n",
       "      <th>NumofN</th>\n",
       "      <th>NumofP</th>\n",
       "      <th>NumofS</th>\n",
       "      <th>H:C</th>\n",
       "      <th>H:O</th>\n",
       "      <th>C:O</th>\n",
       "      <th>C:N</th>\n",
       "      <th>C:S</th>\n",
       "      <th>C:P</th>\n",
       "      <th>Afterdecmass</th>\n",
       "      <th>AMD</th>\n",
       "      <th>RMD</th>\n",
       "      <th>Category</th>\n",
       "      <th>pred_labels</th>\n",
       "    </tr>\n",
       "  </thead>\n",
       "  <tbody>\n",
       "    <tr>\n",
       "      <th>3580</th>\n",
       "      <td>772.504309</td>\n",
       "      <td>45</td>\n",
       "      <td>73</td>\n",
       "      <td>8</td>\n",
       "      <td>0</td>\n",
       "      <td>1</td>\n",
       "      <td>0</td>\n",
       "      <td>1.622222</td>\n",
       "      <td>9.125000</td>\n",
       "      <td>5.625000</td>\n",
       "      <td>0.0</td>\n",
       "      <td>0.0</td>\n",
       "      <td>45.0</td>\n",
       "      <td>0.5043</td>\n",
       "      <td>0.4957</td>\n",
       "      <td>642</td>\n",
       "      <td>Glycerophospholipids</td>\n",
       "      <td>Glycerophospholipids</td>\n",
       "    </tr>\n",
       "    <tr>\n",
       "      <th>43</th>\n",
       "      <td>112.088815</td>\n",
       "      <td>7</td>\n",
       "      <td>12</td>\n",
       "      <td>1</td>\n",
       "      <td>0</td>\n",
       "      <td>0</td>\n",
       "      <td>0</td>\n",
       "      <td>1.714286</td>\n",
       "      <td>12.000000</td>\n",
       "      <td>7.000000</td>\n",
       "      <td>0.0</td>\n",
       "      <td>0.0</td>\n",
       "      <td>0.0</td>\n",
       "      <td>0.0888</td>\n",
       "      <td>0.0888</td>\n",
       "      <td>792</td>\n",
       "      <td>Fatty_Acyls</td>\n",
       "      <td>Fatty_Acyls</td>\n",
       "    </tr>\n",
       "    <tr>\n",
       "      <th>1221</th>\n",
       "      <td>316.203846</td>\n",
       "      <td>20</td>\n",
       "      <td>28</td>\n",
       "      <td>3</td>\n",
       "      <td>0</td>\n",
       "      <td>0</td>\n",
       "      <td>0</td>\n",
       "      <td>1.400000</td>\n",
       "      <td>9.333333</td>\n",
       "      <td>6.666667</td>\n",
       "      <td>0.0</td>\n",
       "      <td>0.0</td>\n",
       "      <td>0.0</td>\n",
       "      <td>0.2038</td>\n",
       "      <td>0.2038</td>\n",
       "      <td>645</td>\n",
       "      <td>Fatty_Acyls</td>\n",
       "      <td>Fatty_Acyls</td>\n",
       "    </tr>\n",
       "    <tr>\n",
       "      <th>1125</th>\n",
       "      <td>252.208930</td>\n",
       "      <td>16</td>\n",
       "      <td>28</td>\n",
       "      <td>2</td>\n",
       "      <td>0</td>\n",
       "      <td>0</td>\n",
       "      <td>0</td>\n",
       "      <td>1.750000</td>\n",
       "      <td>14.000000</td>\n",
       "      <td>8.000000</td>\n",
       "      <td>0.0</td>\n",
       "      <td>0.0</td>\n",
       "      <td>0.0</td>\n",
       "      <td>0.2089</td>\n",
       "      <td>0.2089</td>\n",
       "      <td>828</td>\n",
       "      <td>Fatty_Acyls</td>\n",
       "      <td>Fatty_Acyls</td>\n",
       "    </tr>\n",
       "    <tr>\n",
       "      <th>4300</th>\n",
       "      <td>759.577808</td>\n",
       "      <td>42</td>\n",
       "      <td>82</td>\n",
       "      <td>8</td>\n",
       "      <td>1</td>\n",
       "      <td>1</td>\n",
       "      <td>0</td>\n",
       "      <td>1.952381</td>\n",
       "      <td>10.250000</td>\n",
       "      <td>5.250000</td>\n",
       "      <td>42.0</td>\n",
       "      <td>0.0</td>\n",
       "      <td>42.0</td>\n",
       "      <td>0.5778</td>\n",
       "      <td>0.4222</td>\n",
       "      <td>556</td>\n",
       "      <td>Glycerophospholipids</td>\n",
       "      <td>Glycerophospholipids</td>\n",
       "    </tr>\n",
       "    <tr>\n",
       "      <th>...</th>\n",
       "      <td>...</td>\n",
       "      <td>...</td>\n",
       "      <td>...</td>\n",
       "      <td>...</td>\n",
       "      <td>...</td>\n",
       "      <td>...</td>\n",
       "      <td>...</td>\n",
       "      <td>...</td>\n",
       "      <td>...</td>\n",
       "      <td>...</td>\n",
       "      <td>...</td>\n",
       "      <td>...</td>\n",
       "      <td>...</td>\n",
       "      <td>...</td>\n",
       "      <td>...</td>\n",
       "      <td>...</td>\n",
       "      <td>...</td>\n",
       "      <td>...</td>\n",
       "    </tr>\n",
       "    <tr>\n",
       "      <th>1302</th>\n",
       "      <td>259.229999</td>\n",
       "      <td>18</td>\n",
       "      <td>29</td>\n",
       "      <td>0</td>\n",
       "      <td>1</td>\n",
       "      <td>0</td>\n",
       "      <td>0</td>\n",
       "      <td>1.611111</td>\n",
       "      <td>0.000000</td>\n",
       "      <td>0.000000</td>\n",
       "      <td>18.0</td>\n",
       "      <td>0.0</td>\n",
       "      <td>0.0</td>\n",
       "      <td>0.2300</td>\n",
       "      <td>0.2300</td>\n",
       "      <td>887</td>\n",
       "      <td>Fatty_Acyls</td>\n",
       "      <td>Fatty_Acyls</td>\n",
       "    </tr>\n",
       "    <tr>\n",
       "      <th>929</th>\n",
       "      <td>296.271531</td>\n",
       "      <td>19</td>\n",
       "      <td>36</td>\n",
       "      <td>2</td>\n",
       "      <td>0</td>\n",
       "      <td>0</td>\n",
       "      <td>0</td>\n",
       "      <td>1.894737</td>\n",
       "      <td>18.000000</td>\n",
       "      <td>9.500000</td>\n",
       "      <td>0.0</td>\n",
       "      <td>0.0</td>\n",
       "      <td>0.0</td>\n",
       "      <td>0.2715</td>\n",
       "      <td>0.2715</td>\n",
       "      <td>916</td>\n",
       "      <td>Fatty_Acyls</td>\n",
       "      <td>Fatty_Acyls</td>\n",
       "    </tr>\n",
       "    <tr>\n",
       "      <th>585</th>\n",
       "      <td>236.101705</td>\n",
       "      <td>9</td>\n",
       "      <td>20</td>\n",
       "      <td>1</td>\n",
       "      <td>2</td>\n",
       "      <td>0</td>\n",
       "      <td>2</td>\n",
       "      <td>2.222222</td>\n",
       "      <td>20.000000</td>\n",
       "      <td>9.000000</td>\n",
       "      <td>4.5</td>\n",
       "      <td>4.5</td>\n",
       "      <td>0.0</td>\n",
       "      <td>0.1017</td>\n",
       "      <td>0.1017</td>\n",
       "      <td>431</td>\n",
       "      <td>Fatty_Acyls</td>\n",
       "      <td>Fatty_Acyls</td>\n",
       "    </tr>\n",
       "    <tr>\n",
       "      <th>1811</th>\n",
       "      <td>646.626396</td>\n",
       "      <td>43</td>\n",
       "      <td>82</td>\n",
       "      <td>3</td>\n",
       "      <td>0</td>\n",
       "      <td>0</td>\n",
       "      <td>0</td>\n",
       "      <td>1.906977</td>\n",
       "      <td>27.333333</td>\n",
       "      <td>14.333333</td>\n",
       "      <td>0.0</td>\n",
       "      <td>0.0</td>\n",
       "      <td>0.0</td>\n",
       "      <td>0.6264</td>\n",
       "      <td>0.3736</td>\n",
       "      <td>578</td>\n",
       "      <td>Glycerolipids</td>\n",
       "      <td>Fatty_Acyls</td>\n",
       "    </tr>\n",
       "    <tr>\n",
       "      <th>4224</th>\n",
       "      <td>765.530858</td>\n",
       "      <td>43</td>\n",
       "      <td>76</td>\n",
       "      <td>8</td>\n",
       "      <td>1</td>\n",
       "      <td>1</td>\n",
       "      <td>0</td>\n",
       "      <td>1.767442</td>\n",
       "      <td>9.500000</td>\n",
       "      <td>5.375000</td>\n",
       "      <td>43.0</td>\n",
       "      <td>0.0</td>\n",
       "      <td>43.0</td>\n",
       "      <td>0.5309</td>\n",
       "      <td>0.4691</td>\n",
       "      <td>613</td>\n",
       "      <td>Glycerophospholipids</td>\n",
       "      <td>Glycerophospholipids</td>\n",
       "    </tr>\n",
       "  </tbody>\n",
       "</table>\n",
       "<p>1608 rows × 18 columns</p>\n",
       "</div>"
      ],
      "text/plain": [
       "            Mass  NumofC  NumofH  NumofO  NumofN  NumofP  NumofS       H:C  \\\n",
       "3580  772.504309      45      73       8       0       1       0  1.622222   \n",
       "43    112.088815       7      12       1       0       0       0  1.714286   \n",
       "1221  316.203846      20      28       3       0       0       0  1.400000   \n",
       "1125  252.208930      16      28       2       0       0       0  1.750000   \n",
       "4300  759.577808      42      82       8       1       1       0  1.952381   \n",
       "...          ...     ...     ...     ...     ...     ...     ...       ...   \n",
       "1302  259.229999      18      29       0       1       0       0  1.611111   \n",
       "929   296.271531      19      36       2       0       0       0  1.894737   \n",
       "585   236.101705       9      20       1       2       0       2  2.222222   \n",
       "1811  646.626396      43      82       3       0       0       0  1.906977   \n",
       "4224  765.530858      43      76       8       1       1       0  1.767442   \n",
       "\n",
       "            H:O        C:O   C:N  C:S   C:P  Afterdecmass     AMD  RMD  \\\n",
       "3580   9.125000   5.625000   0.0  0.0  45.0        0.5043  0.4957  642   \n",
       "43    12.000000   7.000000   0.0  0.0   0.0        0.0888  0.0888  792   \n",
       "1221   9.333333   6.666667   0.0  0.0   0.0        0.2038  0.2038  645   \n",
       "1125  14.000000   8.000000   0.0  0.0   0.0        0.2089  0.2089  828   \n",
       "4300  10.250000   5.250000  42.0  0.0  42.0        0.5778  0.4222  556   \n",
       "...         ...        ...   ...  ...   ...           ...     ...  ...   \n",
       "1302   0.000000   0.000000  18.0  0.0   0.0        0.2300  0.2300  887   \n",
       "929   18.000000   9.500000   0.0  0.0   0.0        0.2715  0.2715  916   \n",
       "585   20.000000   9.000000   4.5  4.5   0.0        0.1017  0.1017  431   \n",
       "1811  27.333333  14.333333   0.0  0.0   0.0        0.6264  0.3736  578   \n",
       "4224   9.500000   5.375000  43.0  0.0  43.0        0.5309  0.4691  613   \n",
       "\n",
       "                  Category           pred_labels  \n",
       "3580  Glycerophospholipids  Glycerophospholipids  \n",
       "43             Fatty_Acyls           Fatty_Acyls  \n",
       "1221           Fatty_Acyls           Fatty_Acyls  \n",
       "1125           Fatty_Acyls           Fatty_Acyls  \n",
       "4300  Glycerophospholipids  Glycerophospholipids  \n",
       "...                    ...                   ...  \n",
       "1302           Fatty_Acyls           Fatty_Acyls  \n",
       "929            Fatty_Acyls           Fatty_Acyls  \n",
       "585            Fatty_Acyls           Fatty_Acyls  \n",
       "1811         Glycerolipids           Fatty_Acyls  \n",
       "4224  Glycerophospholipids  Glycerophospholipids  \n",
       "\n",
       "[1608 rows x 18 columns]"
      ]
     },
     "execution_count": 52,
     "metadata": {},
     "output_type": "execute_result"
    }
   ],
   "source": [
    "dfx1['pred_labels']=pred_labels\n",
    "dfx1"
   ]
  },
  {
   "cell_type": "markdown",
   "metadata": {},
   "source": [
    "The problem with sklearn is it is not straightforward to export out the predictions of the model, since the indexes of the predictions (pred_labels, pred_probs) are all messed up. Hence, a recommended strategy is -- after we are satisfied with a model -- we run it against the whole dataset and identify the test examples separately. That is what we will do."
   ]
  },
  {
   "cell_type": "markdown",
   "metadata": {},
   "source": [
    "## Checking the overall performance of the model"
   ]
  },
  {
   "cell_type": "markdown",
   "metadata": {},
   "source": [
    "In this section, we will determine:\n",
    "1. Accuracy of the model\n",
    "2. Area Under the Receiver Operating Characteristic\n",
    "3. Confusion matrix - how many instances are misclassified vs. correctly classified\n",
    "4. Feature importance"
   ]
  },
  {
   "cell_type": "code",
   "execution_count": 53,
   "metadata": {},
   "outputs": [
    {
     "data": {
      "text/plain": [
       "['Glycerolipids',\n",
       " 'Fatty_Acyls',\n",
       " 'Polyketides',\n",
       " 'Glycerophospholipids',\n",
       " 'Sterol_Lipids',\n",
       " 'Saccharolipids',\n",
       " 'Prenol_Lipids',\n",
       " 'Sphingolipids']"
      ]
     },
     "execution_count": 53,
     "metadata": {},
     "output_type": "execute_result"
    }
   ],
   "source": [
    "#class_names=test_labels[unique_labels[test_labels, pred_labels]]\n",
    "class_names=list(set(train_labels))\n",
    "class_names\n",
    "\n",
    "#This is the complete, unique list of labels in the training dataset"
   ]
  },
  {
   "cell_type": "code",
   "execution_count": 54,
   "metadata": {},
   "outputs": [
    {
     "data": {
      "text/plain": [
       "1608"
      ]
     },
     "execution_count": 54,
     "metadata": {},
     "output_type": "execute_result"
    }
   ],
   "source": [
    "\n",
    "len(pred_labels)"
   ]
  },
  {
   "cell_type": "code",
   "execution_count": 55,
   "metadata": {},
   "outputs": [
    {
     "name": "stdout",
     "output_type": "stream",
     "text": [
      "Original label :: Glycerophospholipids and Predicted label :: Glycerophospholipids\n",
      "Original label :: Fatty_Acyls and Predicted label :: Fatty_Acyls\n",
      "Original label :: Fatty_Acyls and Predicted label :: Fatty_Acyls\n",
      "Original label :: Fatty_Acyls and Predicted label :: Fatty_Acyls\n",
      "Original label :: Glycerophospholipids and Predicted label :: Glycerophospholipids\n",
      "Original label :: Glycerophospholipids and Predicted label :: Glycerophospholipids\n",
      "Original label :: Glycerophospholipids and Predicted label :: Glycerophospholipids\n",
      "Original label :: Glycerolipids and Predicted label :: Glycerolipids\n",
      "Original label :: Glycerophospholipids and Predicted label :: Glycerophospholipids\n",
      "Original label :: Sphingolipids and Predicted label :: Sphingolipids\n",
      "Original label :: Glycerophospholipids and Predicted label :: Glycerophospholipids\n",
      "Original label :: Glycerolipids and Predicted label :: Glycerolipids\n",
      "Original label :: Sterol_Lipids and Predicted label :: Sterol_Lipids\n",
      "Original label :: Polyketides and Predicted label :: Polyketides\n",
      "Original label :: Fatty_Acyls and Predicted label :: Fatty_Acyls\n",
      "Original label :: Sphingolipids and Predicted label :: Sphingolipids\n",
      "Original label :: Glycerophospholipids and Predicted label :: Glycerophospholipids\n",
      "Original label :: Fatty_Acyls and Predicted label :: Fatty_Acyls\n",
      "Original label :: Prenol_Lipids and Predicted label :: Prenol_Lipids\n",
      "Original label :: Saccharolipids and Predicted label :: Saccharolipids\n",
      "Overall accuracy: 0.9676616915422885\n",
      ">>> 1608\n",
      "[[286   2   0   0   0   0   0   0]\n",
      " [  0 269   1   0   3   0   8   1]\n",
      " [  0   2 283   1   0   0   1   0]\n",
      " [  0   0   0 392   0   0   0   0]\n",
      " [  0   6   3   0 102   0   4   0]\n",
      " [  0   1   0   0   0  47   0   0]\n",
      " [  2   6   2   2   4   0  21   2]\n",
      " [  0   1   0   0   0   0   0 156]]\n"
     ]
    }
   ],
   "source": [
    "from sklearn.metrics import accuracy_score\n",
    "from sklearn.metrics import confusion_matrix\n",
    "\n",
    "#Using this model, predict labels of test features and see how well it behaves\n",
    "for i in range(0, 20): #Change this number from 10 to something else (<20) and see what happens\n",
    "        print (\"Original label :: {} and Predicted label :: {}\".format(list(test_labels)[i], pred_labels[i]))\n",
    "print(\"Overall accuracy:\",accuracy_score(test_labels, pred_labels))\n",
    "\n",
    "#What do you think was printed here? \n",
    "#Uncheck the following command. Run the block again and check the output as well as the above command.\n",
    "#Can you tell now?\n",
    "\n",
    "print (\">>>\", len(list(test_labels)))\n",
    "\n",
    "#Confusion matrix\n",
    "class_names=list(set(train_labels))\n",
    "cm=confusion_matrix(test_labels, pred_labels, labels=class_names)\n",
    "print (cm)"
   ]
  },
  {
   "cell_type": "code",
   "execution_count": 56,
   "metadata": {},
   "outputs": [
    {
     "data": {
      "text/plain": [
       "array([[ 99.30555556,   0.69444444,   0.        ,   0.        ,\n",
       "          0.        ,   0.        ,   0.        ,   0.        ],\n",
       "       [  0.        ,  95.39007092,   0.35460993,   0.        ,\n",
       "          1.06382979,   0.        ,   2.83687943,   0.35460993],\n",
       "       [  0.        ,   0.69686411,  98.60627178,   0.34843206,\n",
       "          0.        ,   0.        ,   0.34843206,   0.        ],\n",
       "       [  0.        ,   0.        ,   0.        , 100.        ,\n",
       "          0.        ,   0.        ,   0.        ,   0.        ],\n",
       "       [  0.        ,   5.2173913 ,   2.60869565,   0.        ,\n",
       "         88.69565217,   0.        ,   3.47826087,   0.        ],\n",
       "       [  0.        ,   2.08333333,   0.        ,   0.        ,\n",
       "          0.        ,  97.91666667,   0.        ,   0.        ],\n",
       "       [  5.12820513,  15.38461538,   5.12820513,   5.12820513,\n",
       "         10.25641026,   0.        ,  53.84615385,   5.12820513],\n",
       "       [  0.        ,   0.63694268,   0.        ,   0.        ,\n",
       "          0.        ,   0.        ,   0.        ,  99.36305732]])"
      ]
     },
     "execution_count": 56,
     "metadata": {},
     "output_type": "execute_result"
    }
   ],
   "source": [
    "#Normalized confusion matrix\n",
    "#Here we are normalizing each of the value above by the total number of examples of each category in the test dataset\n",
    "cm=cm.astype('float')/cm.sum(axis=1)[:,np.newaxis]*100\n",
    "cm"
   ]
  },
  {
   "cell_type": "code",
   "execution_count": 57,
   "metadata": {},
   "outputs": [
    {
     "data": {
      "text/plain": [
       "'0.23.2'"
      ]
     },
     "execution_count": 57,
     "metadata": {},
     "output_type": "execute_result"
    }
   ],
   "source": [
    "import sklearn\n",
    "sklearn.__version__"
   ]
  },
  {
   "cell_type": "code",
   "execution_count": 58,
   "metadata": {},
   "outputs": [
    {
     "data": {
      "text/plain": [
       "(array([0, 1, 2, 3, 4, 5, 6, 7]),\n",
       " [Text(0, 0, 'Glycerolipids'),\n",
       "  Text(1, 0, 'Fatty_Acyls'),\n",
       "  Text(2, 0, 'Polyketides'),\n",
       "  Text(3, 0, 'Glycerophospholipids'),\n",
       "  Text(4, 0, 'Sterol_Lipids'),\n",
       "  Text(5, 0, 'Saccharolipids'),\n",
       "  Text(6, 0, 'Prenol_Lipids'),\n",
       "  Text(7, 0, 'Sphingolipids')])"
      ]
     },
     "execution_count": 58,
     "metadata": {},
     "output_type": "execute_result"
    },
    {
     "data": {
      "image/png": "[encoded data removed]",
      "text/plain": [
       "<Figure size 504x504 with 2 Axes>"
      ]
     },
     "metadata": {
      "needs_background": "light"
     },
     "output_type": "display_data"
    }
   ],
   "source": [
    "#Plotting the confusion matrix\n",
    "fig, ax = plt.subplots()\n",
    "im = ax.imshow(cm, interpolation='nearest', cmap=\"viridis\")\n",
    "ax.figure.colorbar(im, ax=ax)\n",
    "fig.set_size_inches(7,7)\n",
    "fig.tight_layout()\n",
    "\n",
    "# We want to show all ticks...\n",
    "ax.set(xticks=np.arange(cm.shape[1]),\n",
    "       yticks=np.arange(cm.shape[0]),\n",
    "       # ... and label them with the respective list entries\n",
    "       xticklabels=class_names, yticklabels=class_names,\n",
    "       title=\"Multi-class confusion matrix\",\n",
    "       ylabel='True label',\n",
    "       xlabel='Predicted label')\n",
    "#ax.tick_params(direction=2)\n",
    "plt.xticks(rotation=90)"
   ]
  },
  {
   "cell_type": "markdown",
   "metadata": {},
   "source": [
    "### Exercise 1:\n",
    "\n",
    "* What does the plot show?\n",
    "* Which structural categories was the model able to classify properly, and where was it confused?\n",
    "* Why do you think the model was confused by those categories? What is it confused with? Why? Refer to the category definitions shown above to address these questions.\n"
   ]
  },
  {
   "cell_type": "markdown",
   "metadata": {},
   "source": [
    "## Plotting the Area Under the Receiver Operating Characteristic (AUROC) curve"
   ]
  },
  {
   "cell_type": "markdown",
   "metadata": {},
   "source": [
    "AUROC curve is always in a binary context, while here we have run a multiclass classifier. \n",
    "Hence, it is important to format the AUROC calculations in a way that enables binary calculation/plotting. We will convert all labels into only two types -- Fatty Acyls and Not Fatty Acyls - and run the classifier again"
   ]
  },
  {
   "cell_type": "code",
   "execution_count": 59,
   "metadata": {},
   "outputs": [
    {
     "name": "stdout",
     "output_type": "stream",
     "text": [
      "Overall model score:  0.9813432835820896\n"
     ]
    }
   ],
   "source": [
    "#Plotting the Area Under the Receiver Operating Characteristic (AUROC) curve\n",
    "from sklearn.metrics import roc_curve, auc\n",
    "\n",
    "#Get the labels and features again, just so that we don't mess up the original variables\n",
    "labels2=s['Category']\n",
    "feats2=s[s.columns[5:]]\n",
    "train_feats2, test_feats2, train_labels2, test_labels2  = train_test_split (feats2, labels2, test_size=0.2)\n",
    "\n",
    "for name in class_names:\n",
    "    #print (name)\n",
    "    if name=='Fatty_Acyls':\n",
    "        pass\n",
    "    else:\n",
    "        train_labels2=pd.Series(train_labels2).str.replace(name,'Not_FA') #replace labels in training\n",
    "        test_labels2=pd.Series(test_labels2).str.replace(name,'Not_FA') #replace labels in test\n",
    "\n",
    "#Run Random Forest classifier on them and print the overall model score\n",
    "rf = RandomForestClassifier(n_estimators=100, oob_score=True) \n",
    "trained_model2 = rf.fit(train_feats2, train_labels2)\n",
    "model_scores2=rf.score(test_feats2, test_labels2)\n",
    "print (\"Overall model score: \", model_scores2)"
   ]
  },
  {
   "cell_type": "code",
   "execution_count": 66,
   "metadata": {},
   "outputs": [
    {
     "name": "stdout",
     "output_type": "stream",
     "text": [
      "0.9962635906312544\n"
     ]
    }
   ],
   "source": [
    "#Get the Area Under the Receiver Operating Characteristic (AUC-ROC or AUROC)\n",
    "y_score=trained_model2.predict_proba(test_feats2)[:, 1]\n",
    "# fpr, tpr, _ = roc_curve(test_labels2, y_score, pos_label='Fatty_Acyls')\n",
    "fpr, tpr, _ = roc_curve(test_labels2, y_score, pos_label='Not_FA')\n",
    "#Does the figure make sense? Can AUROC be lower than random expectation?\n",
    "\n",
    "#Change pos_label to Not_FA and see how the AUROC figure changes below.\n",
    "\n",
    "#This is a known issue with AUROC, occurring mostly in the context of multi-class classification. \n",
    "#Some wrapper packages get around this issue. Nonetheless, we can obtain correct AUROC plots by flipping the\n",
    "#class that is being plotted i.e. Not_FA instead of Fatty_Acyls\n",
    "\n",
    "\n",
    "roc_auc = auc(fpr, tpr)\n",
    "print (roc_auc)"
   ]
  },
  {
   "cell_type": "code",
   "execution_count": 67,
   "metadata": {},
   "outputs": [
    {
     "data": {
      "text/plain": [
       "numpy.ndarray"
      ]
     },
     "execution_count": 67,
     "metadata": {},
     "output_type": "execute_result"
    }
   ],
   "source": [
    "type(y_score)"
   ]
  },
  {
   "cell_type": "code",
   "execution_count": 68,
   "metadata": {},
   "outputs": [
    {
     "data": {
      "image/png": "[encoded data removed]",
      "text/plain": [
       "<Figure size 432x288 with 1 Axes>"
      ]
     },
     "metadata": {
      "needs_background": "light"
     },
     "output_type": "display_data"
    }
   ],
   "source": [
    "#Plot the AUROC curve\n",
    "plt.figure()\n",
    "plt.plot(fpr, tpr, color='darkorange',\n",
    "         lw=2, label='ROC curve (area = %0.2f)' % roc_auc)\n",
    "plt.plot([0, 1], [0, 1], color='navy', lw=2, linestyle='--')\n",
    "plt.xlim([0.0, 1.0])\n",
    "plt.ylim([0.0, 1.05])\n",
    "plt.xlabel('False Positive Rate')\n",
    "plt.ylabel('True Positive Rate')\n",
    "plt.title('ROC Curve')\n",
    "plt.legend(loc=\"lower right\")\n",
    "plt.show()"
   ]
  },
  {
   "cell_type": "markdown",
   "metadata": {},
   "source": [
    "## Finding which features were important for binary classification of Fatty Acyls"
   ]
  },
  {
   "cell_type": "markdown",
   "metadata": {},
   "source": [
    "Feature importance is calculated as a specific metric, which is different for different algorithms. See a detailed review here: https://machinelearningmastery.com/calculate-feature-importance-with-python/. In our case, rf.feature_importance_ method by default uses the Gini impurity decrease method, which calculates the drop in \"impurity\" of the predicted labels, if individual features were removed from the nodes of the RF decision trees.\n",
    "\n",
    "There are some issues with this metric with certain types of datasets. Depending on your data structure, you may need to choose different feature importance measures."
   ]
  },
  {
   "cell_type": "code",
   "execution_count": 69,
   "metadata": {},
   "outputs": [
    {
     "data": {
      "text/plain": [
       "Index(['Mass', 'NumofC', 'NumofH', 'NumofO', 'NumofN', 'NumofP', 'NumofS',\n",
       "       'H:C', 'H:O', 'C:O', 'C:N', 'C:S', 'C:P', 'Afterdecmass', 'AMD', 'RMD'],\n",
       "      dtype='object')"
      ]
     },
     "execution_count": 69,
     "metadata": {},
     "output_type": "execute_result"
    }
   ],
   "source": [
    "train_feats2.columns"
   ]
  },
  {
   "cell_type": "code",
   "execution_count": 70,
   "metadata": {},
   "outputs": [
    {
     "name": "stdout",
     "output_type": "stream",
     "text": [
      "              importance\n",
      "Mass            0.179231\n",
      "NumofO          0.143119\n",
      "NumofC          0.127469\n",
      "H:C             0.110268\n",
      "RMD             0.106169\n",
      "NumofH          0.057926\n",
      "Afterdecmass    0.050285\n",
      "C:O             0.049778\n",
      "H:O             0.040129\n",
      "AMD             0.035166\n",
      "NumofP          0.027783\n",
      "NumofN          0.025903\n",
      "C:N             0.014969\n",
      "C:S             0.012550\n",
      "C:P             0.011189\n",
      "NumofS          0.008066\n"
     ]
    },
    {
     "data": {
      "image/png": "[encoded data removed]",
      "text/plain": [
       "<Figure size 432x288 with 1 Axes>"
      ]
     },
     "metadata": {
      "needs_background": "light"
     },
     "output_type": "display_data"
    }
   ],
   "source": [
    "## Feature importance\n",
    "\n",
    "feature_importances = pd.DataFrame(rf.feature_importances_,\n",
    "                                   index = train_feats2.columns,\n",
    "                                    columns=['importance']).sort_values('importance', ascending=False)\n",
    "\n",
    "# Print the feature ranking\n",
    "print (feature_importances)\n",
    "\n",
    "# Plot the feature importances of the forest\n",
    "figcolumns=feature_importances.index.values\n",
    "plt.figure()\n",
    "plt.title(\"Feature importances\")\n",
    "plt.bar(range(train_feats2.shape[1]), feature_importances.importance,\n",
    "       color=\"r\", align=\"center\")\n",
    "plt.ylabel(\"Feature importances\")\n",
    "plt.xticks(range(train_feats2.shape[1]), figcolumns, rotation='vertical')\n",
    "plt.xlim([-1, train_feats2.shape[1]])\n",
    "plt.show()"
   ]
  },
  {
   "cell_type": "markdown",
   "metadata": {},
   "source": [
    "__Copy-paste the above plot into a Word File or a Powerpoint presentation__\n",
    "\n",
    "__Exercise 2__:\n",
    "\n",
    "* Do the feature importances make sense, based on what you know about Fatty Acyls?"
   ]
  },
  {
   "cell_type": "markdown",
   "metadata": {},
   "source": [
    "## Writing the predictions to output"
   ]
  },
  {
   "cell_type": "markdown",
   "metadata": {},
   "source": [
    "This is the final step in our analysis."
   ]
  },
  {
   "cell_type": "code",
   "execution_count": 71,
   "metadata": {},
   "outputs": [
    {
     "name": "stderr",
     "output_type": "stream",
     "text": [
      "/var/folders/fj/vhnlwf151bb8nxy3tgvdmlm9t7f2pg/T/ipykernel_41053/1487664475.py:4: SettingWithCopyWarning: \n",
      "A value is trying to be set on a copy of a slice from a DataFrame.\n",
      "Try using .loc[row_indexer,col_indexer] = value instead\n",
      "\n",
      "See the caveats in the documentation: https://pandas.pydata.org/pandas-docs/stable/user_guide/indexing.html#returning-a-view-versus-a-copy\n",
      "  feats['Predictions']=full_labels\n"
     ]
    }
   ],
   "source": [
    "feats=s[s.columns[5:]]\n",
    "full_labels=trained_model.predict(feats)\n",
    "full_probs=trained_model.predict_proba(feats)\n",
    "feats['Predictions']=full_labels\n",
    "feats2=pd.concat([feats, annot, pd.DataFrame(pred_probs, columns=[\"A\",\"B\",\"C\",\"D\",\"E\",\"F\",\"G\",\"H\"])], axis=1)\n",
    "feats2.to_csv(path_or_buf=\"results3.tab\",index=True,sep='\\t')"
   ]
  },
  {
   "cell_type": "markdown",
   "metadata": {},
   "source": [
    "## HOMEWORK - 10 points\n",
    "\n",
    "Repeat the binary classification with Glycerophospholipids, and check which features are important. To clarify the question, you have already performed multi-class classification. You simply need to obtain AUROC and feature importances for Glycerophospholipids vs. Not_Glycerophospholipids. \n",
    "\n",
    "Make a single Jupyter Notebook with your name in the file name, and upload it on Canvas. Points will be given as follows:\n",
    "\n",
    "1. How easy is it to run the code? -- 2 points\n",
    "2. Is the code well-commented? -- 2 points\n",
    "3. Is the AUROC graph correct? -- 2 points\n",
    "4. Is the Feature Importance graph correct? -- 2 point\n",
    "5. Is there an interpretation provided for feature importance -- 2 points\n",
    "\n",
    "This exercise should take <15 minutes to complete and submit. Submit on Canvas by Wed morning 9am."
   ]
  },
  {
   "cell_type": "markdown",
   "metadata": {},
   "source": [
    "As you can see, the coding required for Python SciKit for running ML is fairly complicated, compared to the graphical interface of Weka. However, SciKit is very powerful, and once you get past the learning curve, you will be able to quickly run different algorithms using the HPC environment. SciKit also allows encoding neural networks as well as multi-label classification (not multi-class) -- where individual instances can be assigned to more than one labels -- which is not possible in Weka. \n",
    "\n",
    "The problem of complexity of sklearn is addressed by a different wrapper package called PyCaret that was released in Apr 2020. Everything you did above for sklearn can be accomplished by the following five lines of code. "
   ]
  },
  {
   "cell_type": "markdown",
   "metadata": {},
   "source": [
    "## Using PyCaret"
   ]
  },
  {
   "cell_type": "code",
   "execution_count": 72,
   "metadata": {},
   "outputs": [
    {
     "data": {
      "text/html": [
       "<div>\n",
       "<style scoped>\n",
       "    .dataframe tbody tr th:only-of-type {\n",
       "        vertical-align: middle;\n",
       "    }\n",
       "\n",
       "    .dataframe tbody tr th {\n",
       "        vertical-align: top;\n",
       "    }\n",
       "\n",
       "    .dataframe thead th {\n",
       "        text-align: right;\n",
       "    }\n",
       "</style>\n",
       "<table border=\"1\" class=\"dataframe\">\n",
       "  <thead>\n",
       "    <tr style=\"text-align: right;\">\n",
       "      <th></th>\n",
       "      <th>#LMID</th>\n",
       "      <th>Name</th>\n",
       "      <th>Category</th>\n",
       "      <th>Subcategory</th>\n",
       "      <th>Formula</th>\n",
       "      <th>Mass</th>\n",
       "      <th>NumofC</th>\n",
       "      <th>NumofH</th>\n",
       "      <th>NumofO</th>\n",
       "      <th>NumofN</th>\n",
       "      <th>...</th>\n",
       "      <th>NumofS</th>\n",
       "      <th>H:C</th>\n",
       "      <th>H:O</th>\n",
       "      <th>C:O</th>\n",
       "      <th>C:N</th>\n",
       "      <th>C:S</th>\n",
       "      <th>C:P</th>\n",
       "      <th>Afterdecmass</th>\n",
       "      <th>AMD</th>\n",
       "      <th>RMD</th>\n",
       "    </tr>\n",
       "  </thead>\n",
       "  <tbody>\n",
       "    <tr>\n",
       "      <th>0</th>\n",
       "      <td>LMFA01090153</td>\n",
       "      <td>(2E,4Z)-3-chlorohexa-2,4-dienedioic_acid</td>\n",
       "      <td>Fatty_Acyls</td>\n",
       "      <td>Fatty_Acids_and_Conjugates</td>\n",
       "      <td>C6H5O4N0S0P0</td>\n",
       "      <td>141.018786</td>\n",
       "      <td>6</td>\n",
       "      <td>5</td>\n",
       "      <td>4</td>\n",
       "      <td>0</td>\n",
       "      <td>...</td>\n",
       "      <td>0</td>\n",
       "      <td>0.833333</td>\n",
       "      <td>1.250000</td>\n",
       "      <td>1.500000</td>\n",
       "      <td>0.0</td>\n",
       "      <td>0.0</td>\n",
       "      <td>0.0</td>\n",
       "      <td>0.9876</td>\n",
       "      <td>0.0124</td>\n",
       "      <td>70</td>\n",
       "    </tr>\n",
       "    <tr>\n",
       "      <th>1</th>\n",
       "      <td>LMFA01020226</td>\n",
       "      <td>19-methyl-5Z,9Z-eicosadienoic_acid</td>\n",
       "      <td>Fatty_Acyls</td>\n",
       "      <td>Fatty_Acids_and_Conjugates</td>\n",
       "      <td>C21H38O2N0S0P0</td>\n",
       "      <td>322.287181</td>\n",
       "      <td>21</td>\n",
       "      <td>38</td>\n",
       "      <td>2</td>\n",
       "      <td>0</td>\n",
       "      <td>...</td>\n",
       "      <td>0</td>\n",
       "      <td>1.809524</td>\n",
       "      <td>19.000000</td>\n",
       "      <td>10.500000</td>\n",
       "      <td>0.0</td>\n",
       "      <td>0.0</td>\n",
       "      <td>0.0</td>\n",
       "      <td>0.2872</td>\n",
       "      <td>0.2872</td>\n",
       "      <td>891</td>\n",
       "    </tr>\n",
       "    <tr>\n",
       "      <th>2</th>\n",
       "      <td>LMFA01050382</td>\n",
       "      <td>2R-methyl-3-hydroxy-propanoic_acid</td>\n",
       "      <td>Fatty_Acyls</td>\n",
       "      <td>Fatty_Acids_and_Conjugates</td>\n",
       "      <td>C4H8O3N0S0P0</td>\n",
       "      <td>104.047345</td>\n",
       "      <td>4</td>\n",
       "      <td>8</td>\n",
       "      <td>3</td>\n",
       "      <td>0</td>\n",
       "      <td>...</td>\n",
       "      <td>0</td>\n",
       "      <td>2.000000</td>\n",
       "      <td>2.666667</td>\n",
       "      <td>1.333333</td>\n",
       "      <td>0.0</td>\n",
       "      <td>0.0</td>\n",
       "      <td>0.0</td>\n",
       "      <td>0.0473</td>\n",
       "      <td>0.0473</td>\n",
       "      <td>455</td>\n",
       "    </tr>\n",
       "    <tr>\n",
       "      <th>3</th>\n",
       "      <td>LMFA01050018</td>\n",
       "      <td>5-hydroxy-heptanoic_acid</td>\n",
       "      <td>Fatty_Acyls</td>\n",
       "      <td>Fatty_Acids_and_Conjugates</td>\n",
       "      <td>C7H14O3N0S0P0</td>\n",
       "      <td>146.094295</td>\n",
       "      <td>7</td>\n",
       "      <td>14</td>\n",
       "      <td>3</td>\n",
       "      <td>0</td>\n",
       "      <td>...</td>\n",
       "      <td>0</td>\n",
       "      <td>2.000000</td>\n",
       "      <td>4.666667</td>\n",
       "      <td>2.333333</td>\n",
       "      <td>0.0</td>\n",
       "      <td>0.0</td>\n",
       "      <td>0.0</td>\n",
       "      <td>0.0943</td>\n",
       "      <td>0.0943</td>\n",
       "      <td>645</td>\n",
       "    </tr>\n",
       "    <tr>\n",
       "      <th>4</th>\n",
       "      <td>LMFA01160015</td>\n",
       "      <td>(2R)-2-[(1R)-1-hydroxy-19-{(1R,2R)-2-[(2R,19S,...</td>\n",
       "      <td>Fatty_Acyls</td>\n",
       "      <td>Fatty_Acids_and_Conjugates</td>\n",
       "      <td>C88H174O4N0S0P0</td>\n",
       "      <td>1295.341213</td>\n",
       "      <td>88</td>\n",
       "      <td>174</td>\n",
       "      <td>4</td>\n",
       "      <td>0</td>\n",
       "      <td>...</td>\n",
       "      <td>0</td>\n",
       "      <td>1.977273</td>\n",
       "      <td>43.500000</td>\n",
       "      <td>22.000000</td>\n",
       "      <td>0.0</td>\n",
       "      <td>0.0</td>\n",
       "      <td>0.0</td>\n",
       "      <td>0.3412</td>\n",
       "      <td>0.3412</td>\n",
       "      <td>263</td>\n",
       "    </tr>\n",
       "  </tbody>\n",
       "</table>\n",
       "<p>5 rows × 21 columns</p>\n",
       "</div>"
      ],
      "text/plain": [
       "          #LMID                                               Name  \\\n",
       "0  LMFA01090153           (2E,4Z)-3-chlorohexa-2,4-dienedioic_acid   \n",
       "1  LMFA01020226                 19-methyl-5Z,9Z-eicosadienoic_acid   \n",
       "2  LMFA01050382                 2R-methyl-3-hydroxy-propanoic_acid   \n",
       "3  LMFA01050018                           5-hydroxy-heptanoic_acid   \n",
       "4  LMFA01160015  (2R)-2-[(1R)-1-hydroxy-19-{(1R,2R)-2-[(2R,19S,...   \n",
       "\n",
       "      Category                 Subcategory          Formula         Mass  \\\n",
       "0  Fatty_Acyls  Fatty_Acids_and_Conjugates     C6H5O4N0S0P0   141.018786   \n",
       "1  Fatty_Acyls  Fatty_Acids_and_Conjugates   C21H38O2N0S0P0   322.287181   \n",
       "2  Fatty_Acyls  Fatty_Acids_and_Conjugates     C4H8O3N0S0P0   104.047345   \n",
       "3  Fatty_Acyls  Fatty_Acids_and_Conjugates    C7H14O3N0S0P0   146.094295   \n",
       "4  Fatty_Acyls  Fatty_Acids_and_Conjugates  C88H174O4N0S0P0  1295.341213   \n",
       "\n",
       "   NumofC  NumofH  NumofO  NumofN  ...  NumofS       H:C        H:O  \\\n",
       "0       6       5       4       0  ...       0  0.833333   1.250000   \n",
       "1      21      38       2       0  ...       0  1.809524  19.000000   \n",
       "2       4       8       3       0  ...       0  2.000000   2.666667   \n",
       "3       7      14       3       0  ...       0  2.000000   4.666667   \n",
       "4      88     174       4       0  ...       0  1.977273  43.500000   \n",
       "\n",
       "         C:O  C:N  C:S  C:P  Afterdecmass     AMD  RMD  \n",
       "0   1.500000  0.0  0.0  0.0        0.9876  0.0124   70  \n",
       "1  10.500000  0.0  0.0  0.0        0.2872  0.2872  891  \n",
       "2   1.333333  0.0  0.0  0.0        0.0473  0.0473  455  \n",
       "3   2.333333  0.0  0.0  0.0        0.0943  0.0943  645  \n",
       "4  22.000000  0.0  0.0  0.0        0.3412  0.3412  263  \n",
       "\n",
       "[5 rows x 21 columns]"
      ]
     },
     "execution_count": 72,
     "metadata": {},
     "output_type": "execute_result"
    }
   ],
   "source": [
    "s.head()"
   ]
  },
  {
   "cell_type": "code",
   "execution_count": 1,
   "metadata": {},
   "outputs": [],
   "source": [
    "import pycaret"
   ]
  },
  {
   "cell_type": "code",
   "execution_count": 2,
   "metadata": {},
   "outputs": [
    {
     "ename": "OSError",
     "evalue": "dlopen(/Users/zl725/.local/lib/python3.9/site-packages/lightgbm/lib_lightgbm.so, 6): Library not loaded: /usr/local/opt/libomp/lib/libomp.dylib\n  Referenced from: /Users/zl725/.local/lib/python3.9/site-packages/lightgbm/lib_lightgbm.so\n  Reason: image not found",
     "output_type": "error",
     "traceback": [
      "\u001b[0;31m---------------------------------------------------------------------------\u001b[0m",
      "\u001b[0;31mOSError\u001b[0m                                   Traceback (most recent call last)",
      "Input \u001b[0;32mIn [2]\u001b[0m, in \u001b[0;36m<module>\u001b[0;34m\u001b[0m\n\u001b[0;32m----> 1\u001b[0m \u001b[38;5;28;01mfrom\u001b[39;00m \u001b[38;5;21;01mpycaret\u001b[39;00m \u001b[38;5;28;01mimport\u001b[39;00m classification\n",
      "File \u001b[0;32m~/.local/lib/python3.9/site-packages/pycaret/classification.py:10\u001b[0m, in \u001b[0;36m<module>\u001b[0;34m\u001b[0m\n\u001b[1;32m      7\u001b[0m \u001b[38;5;28;01mimport\u001b[39;00m \u001b[38;5;21;01mpandas\u001b[39;00m \u001b[38;5;28;01mas\u001b[39;00m \u001b[38;5;21;01mpd\u001b[39;00m\n\u001b[1;32m      8\u001b[0m \u001b[38;5;28;01mimport\u001b[39;00m \u001b[38;5;21;01mnumpy\u001b[39;00m \u001b[38;5;28;01mas\u001b[39;00m \u001b[38;5;21;01mnp\u001b[39;00m\n\u001b[0;32m---> 10\u001b[0m \u001b[38;5;28;01mimport\u001b[39;00m \u001b[38;5;21;01mpycaret\u001b[39;00m\u001b[38;5;21;01m.\u001b[39;00m\u001b[38;5;21;01minternal\u001b[39;00m\u001b[38;5;21;01m.\u001b[39;00m\u001b[38;5;21;01mtabular\u001b[39;00m\n\u001b[1;32m     11\u001b[0m \u001b[38;5;28;01mfrom\u001b[39;00m \u001b[38;5;21;01mpycaret\u001b[39;00m\u001b[38;5;21;01m.\u001b[39;00m\u001b[38;5;21;01mloggers\u001b[39;00m\u001b[38;5;21;01m.\u001b[39;00m\u001b[38;5;21;01mbase_logger\u001b[39;00m \u001b[38;5;28;01mimport\u001b[39;00m BaseLogger\n\u001b[1;32m     12\u001b[0m \u001b[38;5;28;01mfrom\u001b[39;00m \u001b[38;5;21;01mpycaret\u001b[39;00m\u001b[38;5;21;01m.\u001b[39;00m\u001b[38;5;21;01mparallel\u001b[39;00m \u001b[38;5;28;01mimport\u001b[39;00m ParallelBackend\n",
      "File \u001b[0;32m~/.local/lib/python3.9/site-packages/pycaret/internal/tabular.py:54\u001b[0m, in \u001b[0;36m<module>\u001b[0;34m\u001b[0m\n\u001b[1;32m     52\u001b[0m \u001b[38;5;28;01mimport\u001b[39;00m \u001b[38;5;21;01mpycaret\u001b[39;00m\u001b[38;5;21;01m.\u001b[39;00m\u001b[38;5;21;01mcontainers\u001b[39;00m\u001b[38;5;21;01m.\u001b[39;00m\u001b[38;5;21;01mmodels\u001b[39;00m\u001b[38;5;21;01m.\u001b[39;00m\u001b[38;5;21;01mclustering\u001b[39;00m\n\u001b[1;32m     53\u001b[0m \u001b[38;5;28;01mimport\u001b[39;00m \u001b[38;5;21;01mpycaret\u001b[39;00m\u001b[38;5;21;01m.\u001b[39;00m\u001b[38;5;21;01mcontainers\u001b[39;00m\u001b[38;5;21;01m.\u001b[39;00m\u001b[38;5;21;01mmodels\u001b[39;00m\u001b[38;5;21;01m.\u001b[39;00m\u001b[38;5;21;01manomaly\u001b[39;00m\n\u001b[0;32m---> 54\u001b[0m \u001b[38;5;28;01mimport\u001b[39;00m \u001b[38;5;21;01mpycaret\u001b[39;00m\u001b[38;5;21;01m.\u001b[39;00m\u001b[38;5;21;01minternal\u001b[39;00m\u001b[38;5;21;01m.\u001b[39;00m\u001b[38;5;21;01mpreprocess\u001b[39;00m\n\u001b[1;32m     55\u001b[0m \u001b[38;5;28;01mimport\u001b[39;00m \u001b[38;5;21;01mpandas\u001b[39;00m \u001b[38;5;28;01mas\u001b[39;00m \u001b[38;5;21;01mpd\u001b[39;00m\n\u001b[1;32m     56\u001b[0m \u001b[38;5;28;01mimport\u001b[39;00m \u001b[38;5;21;01mnumpy\u001b[39;00m \u001b[38;5;28;01mas\u001b[39;00m \u001b[38;5;21;01mnp\u001b[39;00m\n",
      "File \u001b[0;32m~/.local/lib/python3.9/site-packages/pycaret/internal/preprocess.py:34\u001b[0m, in \u001b[0;36m<module>\u001b[0;34m\u001b[0m\n\u001b[1;32m     32\u001b[0m \u001b[38;5;28;01mfrom\u001b[39;00m \u001b[38;5;21;01msklearn\u001b[39;00m\u001b[38;5;21;01m.\u001b[39;00m\u001b[38;5;21;01mensemble\u001b[39;00m \u001b[38;5;28;01mimport\u001b[39;00m RandomForestClassifier \u001b[38;5;28;01mas\u001b[39;00m rfc\n\u001b[1;32m     33\u001b[0m \u001b[38;5;28;01mfrom\u001b[39;00m \u001b[38;5;21;01msklearn\u001b[39;00m\u001b[38;5;21;01m.\u001b[39;00m\u001b[38;5;21;01mensemble\u001b[39;00m \u001b[38;5;28;01mimport\u001b[39;00m RandomForestRegressor \u001b[38;5;28;01mas\u001b[39;00m rfr\n\u001b[0;32m---> 34\u001b[0m \u001b[38;5;28;01mfrom\u001b[39;00m \u001b[38;5;21;01mlightgbm\u001b[39;00m \u001b[38;5;28;01mimport\u001b[39;00m LGBMClassifier \u001b[38;5;28;01mas\u001b[39;00m lgbmc\n\u001b[1;32m     35\u001b[0m \u001b[38;5;28;01mfrom\u001b[39;00m \u001b[38;5;21;01mlightgbm\u001b[39;00m \u001b[38;5;28;01mimport\u001b[39;00m LGBMRegressor \u001b[38;5;28;01mas\u001b[39;00m lgbmr\n\u001b[1;32m     36\u001b[0m \u001b[38;5;28;01mimport\u001b[39;00m \u001b[38;5;21;01msys\u001b[39;00m\n",
      "File \u001b[0;32m~/.local/lib/python3.9/site-packages/lightgbm/__init__.py:8\u001b[0m, in \u001b[0;36m<module>\u001b[0;34m\u001b[0m\n\u001b[1;32m      2\u001b[0m \u001b[38;5;124;03m\"\"\"LightGBM, Light Gradient Boosting Machine.\u001b[39;00m\n\u001b[1;32m      3\u001b[0m \n\u001b[1;32m      4\u001b[0m \u001b[38;5;124;03mContributors: https://github.com/microsoft/LightGBM/graphs/contributors.\u001b[39;00m\n\u001b[1;32m      5\u001b[0m \u001b[38;5;124;03m\"\"\"\u001b[39;00m\n\u001b[1;32m      6\u001b[0m \u001b[38;5;28;01mfrom\u001b[39;00m \u001b[38;5;21;01mpathlib\u001b[39;00m \u001b[38;5;28;01mimport\u001b[39;00m Path\n\u001b[0;32m----> 8\u001b[0m \u001b[38;5;28;01mfrom\u001b[39;00m \u001b[38;5;21;01m.\u001b[39;00m\u001b[38;5;21;01mbasic\u001b[39;00m \u001b[38;5;28;01mimport\u001b[39;00m Booster, Dataset, Sequence, register_logger\n\u001b[1;32m      9\u001b[0m \u001b[38;5;28;01mfrom\u001b[39;00m \u001b[38;5;21;01m.\u001b[39;00m\u001b[38;5;21;01mcallback\u001b[39;00m \u001b[38;5;28;01mimport\u001b[39;00m early_stopping, log_evaluation, print_evaluation, record_evaluation, reset_parameter\n\u001b[1;32m     10\u001b[0m \u001b[38;5;28;01mfrom\u001b[39;00m \u001b[38;5;21;01m.\u001b[39;00m\u001b[38;5;21;01mengine\u001b[39;00m \u001b[38;5;28;01mimport\u001b[39;00m CVBooster, cv, train\n",
      "File \u001b[0;32m~/.local/lib/python3.9/site-packages/lightgbm/basic.py:110\u001b[0m, in \u001b[0;36m<module>\u001b[0;34m\u001b[0m\n\u001b[1;32m    106\u001b[0m         \u001b[38;5;28;01mraise\u001b[39;00m LightGBMError(lib\u001b[38;5;241m.\u001b[39mLGBM_GetLastError()\u001b[38;5;241m.\u001b[39mdecode(\u001b[38;5;124m'\u001b[39m\u001b[38;5;124mutf-8\u001b[39m\u001b[38;5;124m'\u001b[39m))\n\u001b[1;32m    107\u001b[0m     \u001b[38;5;28;01mreturn\u001b[39;00m lib\n\u001b[0;32m--> 110\u001b[0m _LIB \u001b[38;5;241m=\u001b[39m \u001b[43m_load_lib\u001b[49m\u001b[43m(\u001b[49m\u001b[43m)\u001b[49m\n\u001b[1;32m    113\u001b[0m NUMERIC_TYPES \u001b[38;5;241m=\u001b[39m (\u001b[38;5;28mint\u001b[39m, \u001b[38;5;28mfloat\u001b[39m, \u001b[38;5;28mbool\u001b[39m)\n\u001b[1;32m    116\u001b[0m \u001b[38;5;28;01mdef\u001b[39;00m \u001b[38;5;21m_safe_call\u001b[39m(ret: \u001b[38;5;28mint\u001b[39m) \u001b[38;5;241m-\u001b[39m\u001b[38;5;241m>\u001b[39m \u001b[38;5;28;01mNone\u001b[39;00m:\n",
      "File \u001b[0;32m~/.local/lib/python3.9/site-packages/lightgbm/basic.py:101\u001b[0m, in \u001b[0;36m_load_lib\u001b[0;34m()\u001b[0m\n\u001b[1;32m     99\u001b[0m \u001b[38;5;28;01mif\u001b[39;00m \u001b[38;5;28mlen\u001b[39m(lib_path) \u001b[38;5;241m==\u001b[39m \u001b[38;5;241m0\u001b[39m:\n\u001b[1;32m    100\u001b[0m     \u001b[38;5;28;01mreturn\u001b[39;00m \u001b[38;5;28;01mNone\u001b[39;00m\n\u001b[0;32m--> 101\u001b[0m lib \u001b[38;5;241m=\u001b[39m \u001b[43mctypes\u001b[49m\u001b[38;5;241;43m.\u001b[39;49m\u001b[43mcdll\u001b[49m\u001b[38;5;241;43m.\u001b[39;49m\u001b[43mLoadLibrary\u001b[49m\u001b[43m(\u001b[49m\u001b[43mlib_path\u001b[49m\u001b[43m[\u001b[49m\u001b[38;5;241;43m0\u001b[39;49m\u001b[43m]\u001b[49m\u001b[43m)\u001b[49m\n\u001b[1;32m    102\u001b[0m lib\u001b[38;5;241m.\u001b[39mLGBM_GetLastError\u001b[38;5;241m.\u001b[39mrestype \u001b[38;5;241m=\u001b[39m ctypes\u001b[38;5;241m.\u001b[39mc_char_p\n\u001b[1;32m    103\u001b[0m callback \u001b[38;5;241m=\u001b[39m ctypes\u001b[38;5;241m.\u001b[39mCFUNCTYPE(\u001b[38;5;28;01mNone\u001b[39;00m, ctypes\u001b[38;5;241m.\u001b[39mc_char_p)\n",
      "File \u001b[0;32m~/opt/miniconda3/lib/python3.9/ctypes/__init__.py:452\u001b[0m, in \u001b[0;36mLibraryLoader.LoadLibrary\u001b[0;34m(self, name)\u001b[0m\n\u001b[1;32m    451\u001b[0m \u001b[38;5;28;01mdef\u001b[39;00m \u001b[38;5;21mLoadLibrary\u001b[39m(\u001b[38;5;28mself\u001b[39m, name):\n\u001b[0;32m--> 452\u001b[0m     \u001b[38;5;28;01mreturn\u001b[39;00m \u001b[38;5;28;43mself\u001b[39;49m\u001b[38;5;241;43m.\u001b[39;49m\u001b[43m_dlltype\u001b[49m\u001b[43m(\u001b[49m\u001b[43mname\u001b[49m\u001b[43m)\u001b[49m\n",
      "File \u001b[0;32m~/opt/miniconda3/lib/python3.9/ctypes/__init__.py:374\u001b[0m, in \u001b[0;36mCDLL.__init__\u001b[0;34m(self, name, mode, handle, use_errno, use_last_error, winmode)\u001b[0m\n\u001b[1;32m    371\u001b[0m \u001b[38;5;28mself\u001b[39m\u001b[38;5;241m.\u001b[39m_FuncPtr \u001b[38;5;241m=\u001b[39m _FuncPtr\n\u001b[1;32m    373\u001b[0m \u001b[38;5;28;01mif\u001b[39;00m handle \u001b[38;5;129;01mis\u001b[39;00m \u001b[38;5;28;01mNone\u001b[39;00m:\n\u001b[0;32m--> 374\u001b[0m     \u001b[38;5;28mself\u001b[39m\u001b[38;5;241m.\u001b[39m_handle \u001b[38;5;241m=\u001b[39m \u001b[43m_dlopen\u001b[49m\u001b[43m(\u001b[49m\u001b[38;5;28;43mself\u001b[39;49m\u001b[38;5;241;43m.\u001b[39;49m\u001b[43m_name\u001b[49m\u001b[43m,\u001b[49m\u001b[43m \u001b[49m\u001b[43mmode\u001b[49m\u001b[43m)\u001b[49m\n\u001b[1;32m    375\u001b[0m \u001b[38;5;28;01melse\u001b[39;00m:\n\u001b[1;32m    376\u001b[0m     \u001b[38;5;28mself\u001b[39m\u001b[38;5;241m.\u001b[39m_handle \u001b[38;5;241m=\u001b[39m handle\n",
      "\u001b[0;31mOSError\u001b[0m: dlopen(/Users/zl725/.local/lib/python3.9/site-packages/lightgbm/lib_lightgbm.so, 6): Library not loaded: /usr/local/opt/libomp/lib/libomp.dylib\n  Referenced from: /Users/zl725/.local/lib/python3.9/site-packages/lightgbm/lib_lightgbm.so\n  Reason: image not found"
     ]
    }
   ],
   "source": [
    "from pycaret import classification\n",
    "# numFeat = list(s.columns[5:])\n",
    "# base = classification.setup(s, target='Category',ignore_features=['#LMID','Name','Subcategory','Formula'], \n",
    "#                             numeric_features=numFeat)"
   ]
  },
  {
   "cell_type": "code",
   "execution_count": null,
   "metadata": {},
   "outputs": [],
   "source": [
    "base_rf = classification.create_model('rf')"
   ]
  },
  {
   "cell_type": "code",
   "execution_count": null,
   "metadata": {},
   "outputs": [],
   "source": [
    "tuned_rf = classification.tune_model(base_rf, n_iter=5, optimize = 'AUC')"
   ]
  },
  {
   "cell_type": "code",
   "execution_count": null,
   "metadata": {},
   "outputs": [],
   "source": [
    "classification.evaluate_model(tuned_rf)"
   ]
  },
  {
   "cell_type": "markdown",
   "metadata": {},
   "source": [
    "\n",
    "Look out for large datasets and relevant classification questions where ML can be applied! Let us know too, so that we can use those datasets in future classes!\n",
    "\n",
    "In the next class, we will learn a bit about Deep Learning, and apply PyCaret for solving more machine learning problems. \n",
    "\n",
    "Happy coding!"
   ]
  }
 ],
 "metadata": {
  "kernelspec": {
   "display_name": "Python 3 (ipykernel)",
   "language": "python",
   "name": "python3"
  },
  "language_info": {
   "codemirror_mode": {
    "name": "ipython",
    "version": 3
   },
   "file_extension": ".py",
   "mimetype": "text/x-python",
   "name": "python",
   "nbconvert_exporter": "python",
   "pygments_lexer": "ipython3",
   "version": "3.9.10"
  }
 },
 "nbformat": 4,
 "nbformat_minor": 4
}
